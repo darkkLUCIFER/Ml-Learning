{
 "cells": [
  {
   "cell_type": "code",
   "id": "initial_id",
   "metadata": {
    "collapsed": true,
    "ExecuteTime": {
     "end_time": "2024-04-12T09:39:39.936282Z",
     "start_time": "2024-04-12T09:39:39.934333Z"
    }
   },
   "source": "from scipy import stats",
   "outputs": [],
   "execution_count": 17
  },
  {
   "metadata": {
    "ExecuteTime": {
     "end_time": "2024-04-12T09:39:47.022190Z",
     "start_time": "2024-04-12T09:39:47.019282Z"
    }
   },
   "cell_type": "code",
   "source": [
    "data = stats.binom(p=0.2, n=5000)\n",
    "data"
   ],
   "id": "4e41e4d721e786ab",
   "outputs": [
    {
     "data": {
      "text/plain": [
       "<scipy.stats._distn_infrastructure.rv_discrete_frozen at 0x767f5d6e6f50>"
      ]
     },
     "execution_count": 18,
     "metadata": {},
     "output_type": "execute_result"
    }
   ],
   "execution_count": 18
  },
  {
   "metadata": {
    "ExecuteTime": {
     "end_time": "2024-04-12T13:40:32.719502Z",
     "start_time": "2024-04-12T13:40:32.715719Z"
    }
   },
   "cell_type": "code",
   "source": [
    "# Calculate the probability mass function (PMF) value for 1000 successes\n",
    "data.pmf(1000)"
   ],
   "id": "3e321bacfcb6ef2e",
   "outputs": [
    {
     "data": {
      "text/plain": [
       "0.014103505478012498"
      ]
     },
     "execution_count": 30,
     "metadata": {},
     "output_type": "execute_result"
    }
   ],
   "execution_count": 30
  },
  {
   "metadata": {
    "ExecuteTime": {
     "end_time": "2024-04-12T10:14:22.546203Z",
     "start_time": "2024-04-12T10:14:22.543408Z"
    }
   },
   "cell_type": "code",
   "source": [
    "# Calculate the probability mass function (PMF) value for 1500 successes\n",
    "data.pmf(1500)"
   ],
   "id": "71bb4c2f2fb2fc3b",
   "outputs": [
    {
     "data": {
      "text/plain": [
       "8.418098926059115e-64"
      ]
     },
     "execution_count": 26,
     "metadata": {},
     "output_type": "execute_result"
    }
   ],
   "execution_count": 26
  },
  {
   "metadata": {
    "ExecuteTime": {
     "end_time": "2024-04-12T13:55:32.369248Z",
     "start_time": "2024-04-12T13:55:32.305419Z"
    }
   },
   "cell_type": "code",
   "source": [
    "# calculates the cumulative probability up to 1067 successes in the binomial distribution represented by the data object\n",
    "c = 0\n",
    "for i in range(0,1067):\n",
    "    c += data.pmf(i)\n",
    "c"
   ],
   "id": "194453e774687741",
   "outputs": [
    {
     "data": {
      "text/plain": [
       "0.9902454274113207"
      ]
     },
     "execution_count": 36,
     "metadata": {},
     "output_type": "execute_result"
    }
   ],
   "execution_count": 36
  },
  {
   "metadata": {
    "ExecuteTime": {
     "end_time": "2024-04-12T13:58:28.668821Z",
     "start_time": "2024-04-12T13:58:28.598926Z"
    }
   },
   "cell_type": "code",
   "source": [
    "c = 0\n",
    "for i in range(0,1200):\n",
    "    c += data.pmf(i)\n",
    "c"
   ],
   "id": "f45fbdf911056244",
   "outputs": [
    {
     "data": {
      "text/plain": [
       "0.9999999999973268"
      ]
     },
     "execution_count": 43,
     "metadata": {},
     "output_type": "execute_result"
    }
   ],
   "execution_count": 43
  },
  {
   "metadata": {
    "ExecuteTime": {
     "end_time": "2024-04-12T14:32:06.460635Z",
     "start_time": "2024-04-12T14:32:06.456775Z"
    }
   },
   "cell_type": "code",
   "source": [
    "# the CDF gives us the cumulative probability from the left tail of the distribution up to a specific value\n",
    "data.cdf(1066)"
   ],
   "id": "7a698875c0abf119",
   "outputs": [
    {
     "data": {
      "text/plain": [
       "0.9902454274113204"
      ]
     },
     "execution_count": 44,
     "metadata": {},
     "output_type": "execute_result"
    }
   ],
   "execution_count": 44
  },
  {
   "metadata": {
    "ExecuteTime": {
     "end_time": "2024-04-12T14:39:53.768575Z",
     "start_time": "2024-04-12T14:39:53.765559Z"
    }
   },
   "cell_type": "code",
   "source": "data = stats.poisson(160)",
   "id": "11dd5a7fe8e79ff5",
   "outputs": [],
   "execution_count": 46
  },
  {
   "metadata": {
    "ExecuteTime": {
     "end_time": "2024-04-12T14:41:15.974423Z",
     "start_time": "2024-04-12T14:41:15.971222Z"
    }
   },
   "cell_type": "code",
   "source": "data.pmf(200)",
   "id": "d651d44223c5d53b",
   "outputs": [
    {
     "data": {
      "text/plain": [
       "0.00027541702741491487"
      ]
     },
     "execution_count": 52,
     "metadata": {},
     "output_type": "execute_result"
    }
   ],
   "execution_count": 52
  },
  {
   "metadata": {
    "ExecuteTime": {
     "end_time": "2024-04-12T14:43:03.512650Z",
     "start_time": "2024-04-12T14:43:03.508981Z"
    }
   },
   "cell_type": "code",
   "source": [
    "# Calculate the probability that the random variable is greater than 200\n",
    "# by subtracting the cumulative probability up to 200 from 1\n",
    "prob_greater_than_200 = 1 - data.cdf(200)\n",
    "prob_greater_than_200"
   ],
   "id": "16f7ed6f2d30ffd7",
   "outputs": [
    {
     "data": {
      "text/plain": [
       "0.000994275700640812"
      ]
     },
     "execution_count": 55,
     "metadata": {},
     "output_type": "execute_result"
    }
   ],
   "execution_count": 55
  },
  {
   "metadata": {
    "ExecuteTime": {
     "end_time": "2024-04-12T14:45:42.428045Z",
     "start_time": "2024-04-12T14:45:42.425074Z"
    }
   },
   "cell_type": "code",
   "source": "data = stats.norm(2, 1)",
   "id": "bbeae69fc4ca94a2",
   "outputs": [],
   "execution_count": 56
  },
  {
   "metadata": {
    "ExecuteTime": {
     "end_time": "2024-04-12T14:47:28.661436Z",
     "start_time": "2024-04-12T14:47:28.658309Z"
    }
   },
   "cell_type": "code",
   "source": "data.pdf(2)",
   "id": "41c56437c4e993bb",
   "outputs": [
    {
     "data": {
      "text/plain": [
       "0.3989422804014327"
      ]
     },
     "execution_count": 59,
     "metadata": {},
     "output_type": "execute_result"
    }
   ],
   "execution_count": 59
  },
  {
   "metadata": {
    "ExecuteTime": {
     "end_time": "2024-04-12T14:47:41.871523Z",
     "start_time": "2024-04-12T14:47:41.868180Z"
    }
   },
   "cell_type": "code",
   "source": "1 - data.cdf(2)",
   "id": "8049987d16836f53",
   "outputs": [
    {
     "data": {
      "text/plain": [
       "0.5"
      ]
     },
     "execution_count": 60,
     "metadata": {},
     "output_type": "execute_result"
    }
   ],
   "execution_count": 60
  },
  {
   "metadata": {
    "ExecuteTime": {
     "end_time": "2024-04-12T14:51:49.734931Z",
     "start_time": "2024-04-12T14:51:49.731168Z"
    }
   },
   "cell_type": "code",
   "source": "data.cdf(3.5) - data.cdf(2.5)",
   "id": "40f643224e47a1d5",
   "outputs": [
    {
     "data": {
      "text/plain": [
       "0.2417303374571288"
      ]
     },
     "execution_count": 61,
     "metadata": {},
     "output_type": "execute_result"
    }
   ],
   "execution_count": 61
  },
  {
   "metadata": {},
   "cell_type": "code",
   "outputs": [],
   "execution_count": null,
   "source": "",
   "id": "f683da4aecb9f7e9"
  }
 ],
 "metadata": {
  "kernelspec": {
   "display_name": "Python 3",
   "language": "python",
   "name": "python3"
  },
  "language_info": {
   "codemirror_mode": {
    "name": "ipython",
    "version": 2
   },
   "file_extension": ".py",
   "mimetype": "text/x-python",
   "name": "python",
   "nbconvert_exporter": "python",
   "pygments_lexer": "ipython2",
   "version": "2.7.6"
  }
 },
 "nbformat": 4,
 "nbformat_minor": 5
}
