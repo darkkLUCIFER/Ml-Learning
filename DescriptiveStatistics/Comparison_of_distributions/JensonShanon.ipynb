{
 "cells": [
  {
   "cell_type": "code",
   "id": "initial_id",
   "metadata": {
    "collapsed": true,
    "ExecuteTime": {
     "end_time": "2024-04-14T09:16:08.343665Z",
     "start_time": "2024-04-14T09:16:07.993311Z"
    }
   },
   "source": [
    "import numpy as np\n",
    "import pandas as pd\n",
    "import scipy.stats as st"
   ],
   "outputs": [],
   "execution_count": 1
  },
  {
   "metadata": {
    "ExecuteTime": {
     "end_time": "2024-04-14T10:14:17.600989Z",
     "start_time": "2024-04-14T10:14:17.598250Z"
    }
   },
   "cell_type": "code",
   "source": [
    "# JensonShanon formula\n",
    "def JS(p, q):\n",
    "    p1 = p / np.linalg.norm(p, ord=1)\n",
    "    q1 = q / np.linalg.norm(q, ord=1)\n",
    "    m = 0.5 * (p1 + q1)\n",
    "    r = 0.5 * (st.entropy(p1, m) + st.entropy(q1, m))\n",
    "    return r"
   ],
   "id": "5709fdd35a41b6b9",
   "outputs": [],
   "execution_count": 22
  },
  {
   "metadata": {},
   "cell_type": "code",
   "outputs": [],
   "execution_count": null,
   "source": "# practice: we have weight-height.csv and for this check that height of Male it follows normal distribution or not with JS divergence?",
   "id": "f6e90bc74689d350"
  },
  {
   "metadata": {
    "ExecuteTime": {
     "end_time": "2024-04-14T09:36:28.188694Z",
     "start_time": "2024-04-14T09:36:28.174700Z"
    }
   },
   "cell_type": "code",
   "source": [
    "data = pd.read_csv('weight-height.csv')\n",
    "data.head()"
   ],
   "id": "59ba9bb91d9b43c0",
   "outputs": [
    {
     "data": {
      "text/plain": [
       "  Gender     Height      Weight\n",
       "0   Male  73.847017  241.893563\n",
       "1   Male  68.781904  162.310473\n",
       "2   Male  74.110105  212.740856\n",
       "3   Male  71.730978  220.042470\n",
       "4   Male  69.881796  206.349801"
      ],
      "text/html": [
       "<div>\n",
       "<style scoped>\n",
       "    .dataframe tbody tr th:only-of-type {\n",
       "        vertical-align: middle;\n",
       "    }\n",
       "\n",
       "    .dataframe tbody tr th {\n",
       "        vertical-align: top;\n",
       "    }\n",
       "\n",
       "    .dataframe thead th {\n",
       "        text-align: right;\n",
       "    }\n",
       "</style>\n",
       "<table border=\"1\" class=\"dataframe\">\n",
       "  <thead>\n",
       "    <tr style=\"text-align: right;\">\n",
       "      <th></th>\n",
       "      <th>Gender</th>\n",
       "      <th>Height</th>\n",
       "      <th>Weight</th>\n",
       "    </tr>\n",
       "  </thead>\n",
       "  <tbody>\n",
       "    <tr>\n",
       "      <th>0</th>\n",
       "      <td>Male</td>\n",
       "      <td>73.847017</td>\n",
       "      <td>241.893563</td>\n",
       "    </tr>\n",
       "    <tr>\n",
       "      <th>1</th>\n",
       "      <td>Male</td>\n",
       "      <td>68.781904</td>\n",
       "      <td>162.310473</td>\n",
       "    </tr>\n",
       "    <tr>\n",
       "      <th>2</th>\n",
       "      <td>Male</td>\n",
       "      <td>74.110105</td>\n",
       "      <td>212.740856</td>\n",
       "    </tr>\n",
       "    <tr>\n",
       "      <th>3</th>\n",
       "      <td>Male</td>\n",
       "      <td>71.730978</td>\n",
       "      <td>220.042470</td>\n",
       "    </tr>\n",
       "    <tr>\n",
       "      <th>4</th>\n",
       "      <td>Male</td>\n",
       "      <td>69.881796</td>\n",
       "      <td>206.349801</td>\n",
       "    </tr>\n",
       "  </tbody>\n",
       "</table>\n",
       "</div>"
      ]
     },
     "execution_count": 4,
     "metadata": {},
     "output_type": "execute_result"
    }
   ],
   "execution_count": 4
  },
  {
   "metadata": {
    "ExecuteTime": {
     "end_time": "2024-04-14T09:58:05.763526Z",
     "start_time": "2024-04-14T09:58:05.761091Z"
    }
   },
   "cell_type": "code",
   "source": "count, devision = np.histogram(data['Height'], bins=100)",
   "id": "7becc2e97184bc0",
   "outputs": [],
   "execution_count": 13
  },
  {
   "metadata": {
    "ExecuteTime": {
     "end_time": "2024-04-14T09:58:06.122151Z",
     "start_time": "2024-04-14T09:58:06.115218Z"
    }
   },
   "cell_type": "code",
   "source": [
    "ideal = st.norm.rvs(size=count.sum(), loc=data['Height'].describe()['mean'], scale=data['Height'].describe()['std'])\n",
    "icount, idevision = np.histogram(ideal, bins=100)\n",
    "print(icount)"
   ],
   "id": "c436448aa1e0392",
   "outputs": [
    {
     "name": "stdout",
     "output_type": "stream",
     "text": [
      "[  2   0   3   0   0   1   2   3   6   8  11   7   6  18  15  24  22  32\n",
      "  30  31  39  52  52  73  82  83  98 125 124 126 149 154 130 196 237 223\n",
      " 236 227 238 268 292 284 296 314 303 291 339 299 292 278 312 293 268 268\n",
      " 256 242 213 228 192 175 170 152 134 122 115  87  79  80  65  71  58  46\n",
      "  45  46  27  26  18  23   9  11  11  10   3   6   0   3   5   2   2   2\n",
      "   3   0   0   0   0   0   0   0   0   1]\n"
     ]
    }
   ],
   "execution_count": 14
  },
  {
   "metadata": {
    "ExecuteTime": {
     "end_time": "2024-04-14T10:14:20.302432Z",
     "start_time": "2024-04-14T10:14:20.297995Z"
    }
   },
   "cell_type": "code",
   "source": "JS(count, icount)",
   "id": "3bd799ffff8a6013",
   "outputs": [
    {
     "data": {
      "text/plain": [
       "0.15804752260253002"
      ]
     },
     "execution_count": 23,
     "metadata": {},
     "output_type": "execute_result"
    }
   ],
   "execution_count": 23
  },
  {
   "metadata": {},
   "cell_type": "code",
   "outputs": [],
   "execution_count": null,
   "source": "# so the JS value is 0% and the both histograms are about 15% same so the height dont follows normal distribution",
   "id": "22ee7f7ef5d49979"
  },
  {
   "metadata": {
    "ExecuteTime": {
     "end_time": "2024-04-14T10:05:21.241344Z",
     "start_time": "2024-04-14T10:05:21.236041Z"
    }
   },
   "cell_type": "code",
   "source": [
    "ws_data = pd.read_csv('wind_speed_laurel_nebraska.csv')\n",
    "ws_data.head()"
   ],
   "id": "731ccf1d8b441113",
   "outputs": [
    {
     "data": {
      "text/plain": [
       "   10 Min Std Dev              Time  10 Min Sampled Avg\n",
       "0            2.73  2001-06-11 11:00                22.3\n",
       "1            1.98  2001-06-11 11:10                23.0\n",
       "2            1.87  2001-06-11 11:20                23.3\n",
       "3            2.03  2001-06-11 11:30                22.0\n",
       "4            3.10  2001-06-11 11:40                20.5"
      ],
      "text/html": [
       "<div>\n",
       "<style scoped>\n",
       "    .dataframe tbody tr th:only-of-type {\n",
       "        vertical-align: middle;\n",
       "    }\n",
       "\n",
       "    .dataframe tbody tr th {\n",
       "        vertical-align: top;\n",
       "    }\n",
       "\n",
       "    .dataframe thead th {\n",
       "        text-align: right;\n",
       "    }\n",
       "</style>\n",
       "<table border=\"1\" class=\"dataframe\">\n",
       "  <thead>\n",
       "    <tr style=\"text-align: right;\">\n",
       "      <th></th>\n",
       "      <th>10 Min Std Dev</th>\n",
       "      <th>Time</th>\n",
       "      <th>10 Min Sampled Avg</th>\n",
       "    </tr>\n",
       "  </thead>\n",
       "  <tbody>\n",
       "    <tr>\n",
       "      <th>0</th>\n",
       "      <td>2.73</td>\n",
       "      <td>2001-06-11 11:00</td>\n",
       "      <td>22.3</td>\n",
       "    </tr>\n",
       "    <tr>\n",
       "      <th>1</th>\n",
       "      <td>1.98</td>\n",
       "      <td>2001-06-11 11:10</td>\n",
       "      <td>23.0</td>\n",
       "    </tr>\n",
       "    <tr>\n",
       "      <th>2</th>\n",
       "      <td>1.87</td>\n",
       "      <td>2001-06-11 11:20</td>\n",
       "      <td>23.3</td>\n",
       "    </tr>\n",
       "    <tr>\n",
       "      <th>3</th>\n",
       "      <td>2.03</td>\n",
       "      <td>2001-06-11 11:30</td>\n",
       "      <td>22.0</td>\n",
       "    </tr>\n",
       "    <tr>\n",
       "      <th>4</th>\n",
       "      <td>3.10</td>\n",
       "      <td>2001-06-11 11:40</td>\n",
       "      <td>20.5</td>\n",
       "    </tr>\n",
       "  </tbody>\n",
       "</table>\n",
       "</div>"
      ]
     },
     "execution_count": 16,
     "metadata": {},
     "output_type": "execute_result"
    }
   ],
   "execution_count": 16
  },
  {
   "metadata": {
    "ExecuteTime": {
     "end_time": "2024-04-14T10:15:37.106130Z",
     "start_time": "2024-04-14T10:15:37.102732Z"
    }
   },
   "cell_type": "code",
   "source": [
    "ideal = st.norm.rvs(size=len(ws_data['10 Min Sampled Avg']), loc=ws_data['10 Min Sampled Avg'].mean(), scale=ws_data['10 Min Sampled Avg'].std())\n",
    "icount, idevision = np.histogram(ideal, bins=100)"
   ],
   "id": "8ef831dfaf4e34e9",
   "outputs": [],
   "execution_count": 25
  },
  {
   "metadata": {
    "ExecuteTime": {
     "end_time": "2024-04-14T10:15:37.281002Z",
     "start_time": "2024-04-14T10:15:37.277931Z"
    }
   },
   "cell_type": "code",
   "source": "count, devision = np.histogram(ws_data['10 Min Sampled Avg'], bins=100)",
   "id": "7441fa091e66dc9c",
   "outputs": [],
   "execution_count": 26
  },
  {
   "metadata": {
    "ExecuteTime": {
     "end_time": "2024-04-14T10:15:38.093049Z",
     "start_time": "2024-04-14T10:15:38.088947Z"
    }
   },
   "cell_type": "code",
   "source": "JS(count, icount)",
   "id": "97706d612d75ea17",
   "outputs": [
    {
     "data": {
      "text/plain": [
       "0.17724735214729437"
      ]
     },
     "execution_count": 27,
     "metadata": {},
     "output_type": "execute_result"
    }
   ],
   "execution_count": 27
  },
  {
   "metadata": {},
   "cell_type": "code",
   "outputs": [],
   "execution_count": null,
   "source": "# so the JS value is 0% and the both histograms are about 17% same so the height dont follows normal distribution",
   "id": "f1b9817ddd6fc102"
  },
  {
   "metadata": {
    "ExecuteTime": {
     "end_time": "2024-04-14T10:16:38.661726Z",
     "start_time": "2024-04-14T10:16:38.576250Z"
    }
   },
   "cell_type": "code",
   "source": "ws_data['10 Min Sampled Avg'].hist(bins=20)",
   "id": "77b207dc363e7e5e",
   "outputs": [
    {
     "data": {
      "text/plain": [
       "<Axes: >"
      ]
     },
     "execution_count": 29,
     "metadata": {},
     "output_type": "execute_result"
    },
    {
     "data": {
      "text/plain": [
       "<Figure size 640x480 with 1 Axes>"
      ],
      "image/png": "[encoded data removed]"
     },
     "metadata": {},
     "output_type": "display_data"
    }
   ],
   "execution_count": 29
  },
  {
   "metadata": {},
   "cell_type": "code",
   "outputs": [],
   "execution_count": null,
   "source": "",
   "id": "6c13186095aaef32"
  }
 ],
 "metadata": {
  "kernelspec": {
   "display_name": "Python 3",
   "language": "python",
   "name": "python3"
  },
  "language_info": {
   "codemirror_mode": {
    "name": "ipython",
    "version": 2
   },
   "file_extension": ".py",
   "mimetype": "text/x-python",
   "name": "python",
   "nbconvert_exporter": "python",
   "pygments_lexer": "ipython2",
   "version": "2.7.6"
  }
 },
 "nbformat": 4,
 "nbformat_minor": 5
}
