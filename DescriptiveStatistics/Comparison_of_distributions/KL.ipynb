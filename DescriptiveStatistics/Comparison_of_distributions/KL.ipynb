{
 "cells": [
  {
   "cell_type": "code",
   "id": "initial_id",
   "metadata": {
    "collapsed": true,
    "ExecuteTime": {
     "end_time": "2024-04-14T08:56:45.685681Z",
     "start_time": "2024-04-14T08:56:45.683652Z"
    }
   },
   "source": [
    "import numpy as np\n",
    "from scipy.stats import norm\n",
    "from matplotlib import pyplot as plt\n",
    "import seaborn as sns\n",
    "import pandas as pd"
   ],
   "outputs": [],
   "execution_count": 1
  },
  {
   "metadata": {
    "ExecuteTime": {
     "end_time": "2024-04-13T08:44:44.640651Z",
     "start_time": "2024-04-13T08:44:44.638412Z"
    }
   },
   "cell_type": "code",
   "source": [
    "student_ranks_histogram_bins_a = [0.10, 0.41, 0, 0.334]\n",
    "student_ranks_histogram_bins_b = [0.11, 0.45, 0.12, 0.345]"
   ],
   "id": "bf1d1a793ea68336",
   "outputs": [],
   "execution_count": 26
  },
  {
   "metadata": {
    "ExecuteTime": {
     "end_time": "2024-04-14T08:56:46.848616Z",
     "start_time": "2024-04-14T08:56:46.845760Z"
    }
   },
   "cell_type": "code",
   "source": [
    "# KL divergence\n",
    "def kl(p, q):\n",
    "    # Avoid divide by zero and invalid values in the logarithm\n",
    "    mask = np.logical_and(p != 0, q != 0)\n",
    "    result = np.sum(np.where(mask, p * np.log(p / q), 0))\n",
    "    return result"
   ],
   "id": "213819e146bf2045",
   "outputs": [],
   "execution_count": 2
  },
  {
   "metadata": {},
   "cell_type": "code",
   "outputs": [],
   "execution_count": null,
   "source": "# practice: we have weight-height.csv and for this check that height of Male it follows normal distribution or not with KL divergence?",
   "id": "9211a6406f6e8164"
  },
  {
   "metadata": {
    "ExecuteTime": {
     "end_time": "2024-04-14T08:56:49.748668Z",
     "start_time": "2024-04-14T08:56:49.728044Z"
    }
   },
   "cell_type": "code",
   "source": [
    "data = pd.read_csv('weight-height.csv')\n",
    "data.head()"
   ],
   "id": "9aa72498d77da136",
   "outputs": [
    {
     "data": {
      "text/plain": [
       "  Gender     Height      Weight\n",
       "0   Male  73.847017  241.893563\n",
       "1   Male  68.781904  162.310473\n",
       "2   Male  74.110105  212.740856\n",
       "3   Male  71.730978  220.042470\n",
       "4   Male  69.881796  206.349801"
      ],
      "text/html": [
       "<div>\n",
       "<style scoped>\n",
       "    .dataframe tbody tr th:only-of-type {\n",
       "        vertical-align: middle;\n",
       "    }\n",
       "\n",
       "    .dataframe tbody tr th {\n",
       "        vertical-align: top;\n",
       "    }\n",
       "\n",
       "    .dataframe thead th {\n",
       "        text-align: right;\n",
       "    }\n",
       "</style>\n",
       "<table border=\"1\" class=\"dataframe\">\n",
       "  <thead>\n",
       "    <tr style=\"text-align: right;\">\n",
       "      <th></th>\n",
       "      <th>Gender</th>\n",
       "      <th>Height</th>\n",
       "      <th>Weight</th>\n",
       "    </tr>\n",
       "  </thead>\n",
       "  <tbody>\n",
       "    <tr>\n",
       "      <th>0</th>\n",
       "      <td>Male</td>\n",
       "      <td>73.847017</td>\n",
       "      <td>241.893563</td>\n",
       "    </tr>\n",
       "    <tr>\n",
       "      <th>1</th>\n",
       "      <td>Male</td>\n",
       "      <td>68.781904</td>\n",
       "      <td>162.310473</td>\n",
       "    </tr>\n",
       "    <tr>\n",
       "      <th>2</th>\n",
       "      <td>Male</td>\n",
       "      <td>74.110105</td>\n",
       "      <td>212.740856</td>\n",
       "    </tr>\n",
       "    <tr>\n",
       "      <th>3</th>\n",
       "      <td>Male</td>\n",
       "      <td>71.730978</td>\n",
       "      <td>220.042470</td>\n",
       "    </tr>\n",
       "    <tr>\n",
       "      <th>4</th>\n",
       "      <td>Male</td>\n",
       "      <td>69.881796</td>\n",
       "      <td>206.349801</td>\n",
       "    </tr>\n",
       "  </tbody>\n",
       "</table>\n",
       "</div>"
      ]
     },
     "execution_count": 3,
     "metadata": {},
     "output_type": "execute_result"
    }
   ],
   "execution_count": 3
  },
  {
   "metadata": {
    "ExecuteTime": {
     "end_time": "2024-04-13T10:38:55.870955Z",
     "start_time": "2024-04-13T10:38:55.865551Z"
    }
   },
   "cell_type": "code",
   "source": "data.groupby('Gender').mean()",
   "id": "4ed6792f525ffaf4",
   "outputs": [
    {
     "data": {
      "text/plain": [
       "           Height      Weight\n",
       "Gender                       \n",
       "Female  63.708774  135.860093\n",
       "Male    69.026346  187.020621"
      ],
      "text/html": [
       "<div>\n",
       "<style scoped>\n",
       "    .dataframe tbody tr th:only-of-type {\n",
       "        vertical-align: middle;\n",
       "    }\n",
       "\n",
       "    .dataframe tbody tr th {\n",
       "        vertical-align: top;\n",
       "    }\n",
       "\n",
       "    .dataframe thead th {\n",
       "        text-align: right;\n",
       "    }\n",
       "</style>\n",
       "<table border=\"1\" class=\"dataframe\">\n",
       "  <thead>\n",
       "    <tr style=\"text-align: right;\">\n",
       "      <th></th>\n",
       "      <th>Height</th>\n",
       "      <th>Weight</th>\n",
       "    </tr>\n",
       "    <tr>\n",
       "      <th>Gender</th>\n",
       "      <th></th>\n",
       "      <th></th>\n",
       "    </tr>\n",
       "  </thead>\n",
       "  <tbody>\n",
       "    <tr>\n",
       "      <th>Female</th>\n",
       "      <td>63.708774</td>\n",
       "      <td>135.860093</td>\n",
       "    </tr>\n",
       "    <tr>\n",
       "      <th>Male</th>\n",
       "      <td>69.026346</td>\n",
       "      <td>187.020621</td>\n",
       "    </tr>\n",
       "  </tbody>\n",
       "</table>\n",
       "</div>"
      ]
     },
     "execution_count": 104,
     "metadata": {},
     "output_type": "execute_result"
    }
   ],
   "execution_count": 104
  },
  {
   "metadata": {
    "ExecuteTime": {
     "end_time": "2024-04-14T08:57:00.168740Z",
     "start_time": "2024-04-14T08:56:59.980979Z"
    }
   },
   "cell_type": "code",
   "source": [
    "males_height = data[data['Gender'] == 'Male']['Height']\n",
    "males_height.hist(bins=100)"
   ],
   "id": "459e55168eeaac90",
   "outputs": [
    {
     "data": {
      "text/plain": [
       "<Axes: >"
      ]
     },
     "execution_count": 5,
     "metadata": {},
     "output_type": "execute_result"
    },
    {
     "data": {
      "text/plain": [
       "<Figure size 640x480 with 1 Axes>"
      ],
      "image/png": "[encoded data removed]"
     },
     "metadata": {},
     "output_type": "display_data"
    }
   ],
   "execution_count": 5
  },
  {
   "metadata": {
    "ExecuteTime": {
     "end_time": "2024-04-13T10:06:05.225079Z",
     "start_time": "2024-04-13T10:06:05.220072Z"
    }
   },
   "cell_type": "code",
   "source": "males_height.describe()['mean']",
   "id": "db20fff1aefd3cb4",
   "outputs": [
    {
     "data": {
      "text/plain": [
       "69.02634590621741"
      ]
     },
     "execution_count": 81,
     "metadata": {},
     "output_type": "execute_result"
    }
   ],
   "execution_count": 81
  },
  {
   "metadata": {
    "ExecuteTime": {
     "end_time": "2024-04-13T10:06:05.352305Z",
     "start_time": "2024-04-13T10:06:05.347834Z"
    }
   },
   "cell_type": "code",
   "source": "males_height.describe()['std']",
   "id": "5e2577aaf6c9152c",
   "outputs": [
    {
     "data": {
      "text/plain": [
       "2.863362228660647"
      ]
     },
     "execution_count": 82,
     "metadata": {},
     "output_type": "execute_result"
    }
   ],
   "execution_count": 82
  },
  {
   "metadata": {
    "ExecuteTime": {
     "end_time": "2024-04-14T08:57:02.668453Z",
     "start_time": "2024-04-14T08:57:02.665030Z"
    }
   },
   "cell_type": "code",
   "source": [
    "count, devision = np.histogram(males_height, bins=100)\n",
    "print(f'count: {count}')\n",
    "print(f'devision: {devision}')"
   ],
   "id": "a51c7ada26716b72",
   "outputs": [
    {
     "name": "stdout",
     "output_type": "stream",
     "text": [
      "count: [  1   0   0   0   1   0   0   3   2   3   1   5   5   4   6   5   8   9\n",
      "   9  12  14   9  16  16  19  29  34  27  20  37  47  56  60  63  59  70\n",
      "  77  78  88  89  96 101 125 131 127 129 148 148 150 135 122 168 145 139\n",
      " 151 134 124 112 144  93 133 109  98 115 113 103  83  79  62  61  46  50\n",
      "  40  43  42  34  28  30  16  20  13  11   8  11   5   8   4   7   8   4\n",
      "   3   1   3   0   0   1   0   2   1   1]\n",
      "devision: [58.40690493 58.61282331 58.81874168 59.02466005 59.23057843 59.4364968\n",
      " 59.64241518 59.84833355 60.05425192 60.2601703  60.46608867 60.67200705\n",
      " 60.87792542 61.0838438  61.28976217 61.49568054 61.70159892 61.90751729\n",
      " 62.11343567 62.31935404 62.52527241 62.73119079 62.93710916 63.14302754\n",
      " 63.34894591 63.55486429 63.76078266 63.96670103 64.17261941 64.37853778\n",
      " 64.58445616 64.79037453 64.9962929  65.20221128 65.40812965 65.61404803\n",
      " 65.8199664  66.02588478 66.23180315 66.43772152 66.6436399  66.84955827\n",
      " 67.05547665 67.26139502 67.46731339 67.67323177 67.87915014 68.08506852\n",
      " 68.29098689 68.49690526 68.70282364 68.90874201 69.11466039 69.32057876\n",
      " 69.52649714 69.73241551 69.93833388 70.14425226 70.35017063 70.55608901\n",
      " 70.76200738 70.96792575 71.17384413 71.3797625  71.58568088 71.79159925\n",
      " 71.99751763 72.203436   72.40935437 72.61527275 72.82119112 73.0271095\n",
      " 73.23302787 73.43894624 73.64486462 73.85078299 74.05670137 74.26261974\n",
      " 74.46853812 74.67445649 74.88037486 75.08629324 75.29221161 75.49812999\n",
      " 75.70404836 75.90996673 76.11588511 76.32180348 76.52772186 76.73364023\n",
      " 76.9395586  77.14547698 77.35139535 77.55731373 77.7632321  77.96915048\n",
      " 78.17506885 78.38098722 78.5869056  78.79282397 78.99874235]\n"
     ]
    }
   ],
   "execution_count": 6
  },
  {
   "metadata": {
    "ExecuteTime": {
     "end_time": "2024-04-14T08:58:10.154657Z",
     "start_time": "2024-04-14T08:58:10.149294Z"
    }
   },
   "cell_type": "code",
   "source": [
    "ideal = norm.rvs(size=len(males_height), loc=males_height.describe()['mean'], scale=males_height.describe()['std'])\n",
    "ideal"
   ],
   "id": "ab7f8976fd58e26d",
   "outputs": [
    {
     "data": {
      "text/plain": [
       "array([67.2326042 , 67.35639828, 69.23320512, ..., 61.6485119 ,\n",
       "       73.77111316, 68.39314416])"
      ]
     },
     "execution_count": 10,
     "metadata": {},
     "output_type": "execute_result"
    }
   ],
   "execution_count": 10
  },
  {
   "metadata": {
    "ExecuteTime": {
     "end_time": "2024-04-14T08:58:10.822108Z",
     "start_time": "2024-04-14T08:58:10.819071Z"
    }
   },
   "cell_type": "code",
   "source": [
    "icount, idevision = np.histogram(ideal, bins=100)\n",
    "print(f'icount: {icount}')\n",
    "print(f'idevision: {idevision}')"
   ],
   "id": "629245cc78142ebb",
   "outputs": [
    {
     "name": "stdout",
     "output_type": "stream",
     "text": [
      "icount: [  1   0   0   0   0   0   0   0   0   1   0   4   4   1   4   6   6   6\n",
      "   7  10   6   6   9  18  13  19  14  21  20  27  45  30  41  44  58  61\n",
      "  63  60  65  82  96  96  96 120 120 139 117 102 133 122 139 124 129 140\n",
      " 158 151 136 134 124 133 130 140 122 113 114  83  99 102  82  76  71  72\n",
      "  65  50  51  39  42  48  43  26  31  25  18  20  17  10   7   7   6   7\n",
      "   5   4   5   2   2   1   1   1   1   1]\n",
      "idevision: [58.03113746 58.23216634 58.43319523 58.63422411 58.83525299 59.03628188\n",
      " 59.23731076 59.43833965 59.63936853 59.84039742 60.0414263  60.24245518\n",
      " 60.44348407 60.64451295 60.84554184 61.04657072 61.24759961 61.44862849\n",
      " 61.64965737 61.85068626 62.05171514 62.25274403 62.45377291 62.6548018\n",
      " 62.85583068 63.05685957 63.25788845 63.45891733 63.65994622 63.8609751\n",
      " 64.06200399 64.26303287 64.46406176 64.66509064 64.86611952 65.06714841\n",
      " 65.26817729 65.46920618 65.67023506 65.87126395 66.07229283 66.27332171\n",
      " 66.4743506  66.67537948 66.87640837 67.07743725 67.27846614 67.47949502\n",
      " 67.68052391 67.88155279 68.08258167 68.28361056 68.48463944 68.68566833\n",
      " 68.88669721 69.0877261  69.28875498 69.48978386 69.69081275 69.89184163\n",
      " 70.09287052 70.2938994  70.49492829 70.69595717 70.89698605 71.09801494\n",
      " 71.29904382 71.50007271 71.70110159 71.90213048 72.10315936 72.30418824\n",
      " 72.50521713 72.70624601 72.9072749  73.10830378 73.30933267 73.51036155\n",
      " 73.71139044 73.91241932 74.1134482  74.31447709 74.51550597 74.71653486\n",
      " 74.91756374 75.11859263 75.31962151 75.52065039 75.72167928 75.92270816\n",
      " 76.12373705 76.32476593 76.52579482 76.7268237  76.92785258 77.12888147\n",
      " 77.32991035 77.53093924 77.73196812 77.93299701 78.13402589]\n"
     ]
    }
   ],
   "execution_count": 11
  },
  {
   "metadata": {
    "ExecuteTime": {
     "end_time": "2024-04-13T10:35:03.348667Z",
     "start_time": "2024-04-13T10:35:03.013231Z"
    }
   },
   "cell_type": "code",
   "source": "sns.displot(ideal, bins=100)",
   "id": "3330ea2ce1871276",
   "outputs": [
    {
     "data": {
      "text/plain": [
       "<seaborn.axisgrid.FacetGrid at 0x7fa01afc0bd0>"
      ]
     },
     "execution_count": 95,
     "metadata": {},
     "output_type": "execute_result"
    },
    {
     "data": {
      "text/plain": [
       "<Figure size 500x500 with 1 Axes>"
      ],
      "image/png": "[encoded data removed]"
     },
     "metadata": {},
     "output_type": "display_data"
    }
   ],
   "execution_count": 95
  },
  {
   "metadata": {
    "ExecuteTime": {
     "end_time": "2024-04-13T10:35:23.527636Z",
     "start_time": "2024-04-13T10:35:23.524731Z"
    }
   },
   "cell_type": "code",
   "source": "kl(count, icount)",
   "id": "3e4c32c24a2cece7",
   "outputs": [
    {
     "name": "stderr",
     "output_type": "stream",
     "text": [
      "/tmp/ipykernel_10713/559576496.py:5: RuntimeWarning: divide by zero encountered in divide\n",
      "  result = np.sum(np.where(mask, p * np.log(p / q), 0))\n",
      "/tmp/ipykernel_10713/559576496.py:5: RuntimeWarning: invalid value encountered in divide\n",
      "  result = np.sum(np.where(mask, p * np.log(p / q), 0))\n",
      "/tmp/ipykernel_10713/559576496.py:5: RuntimeWarning: divide by zero encountered in log\n",
      "  result = np.sum(np.where(mask, p * np.log(p / q), 0))\n",
      "/tmp/ipykernel_10713/559576496.py:5: RuntimeWarning: invalid value encountered in multiply\n",
      "  result = np.sum(np.where(mask, p * np.log(p / q), 0))\n"
     ]
    },
    {
     "data": {
      "text/plain": [
       "105.85584465229635"
      ]
     },
     "execution_count": 96,
     "metadata": {},
     "output_type": "execute_result"
    }
   ],
   "execution_count": 96
  },
  {
   "metadata": {
    "ExecuteTime": {
     "end_time": "2024-04-13T10:40:11.608846Z",
     "start_time": "2024-04-13T10:40:11.603821Z"
    }
   },
   "cell_type": "code",
   "source": "data.groupby('Gender').count()",
   "id": "1940637578f847af",
   "outputs": [
    {
     "data": {
      "text/plain": [
       "        Height  Weight\n",
       "Gender                \n",
       "Female    5000    5000\n",
       "Male      5000    5000"
      ],
      "text/html": [
       "<div>\n",
       "<style scoped>\n",
       "    .dataframe tbody tr th:only-of-type {\n",
       "        vertical-align: middle;\n",
       "    }\n",
       "\n",
       "    .dataframe tbody tr th {\n",
       "        vertical-align: top;\n",
       "    }\n",
       "\n",
       "    .dataframe thead th {\n",
       "        text-align: right;\n",
       "    }\n",
       "</style>\n",
       "<table border=\"1\" class=\"dataframe\">\n",
       "  <thead>\n",
       "    <tr style=\"text-align: right;\">\n",
       "      <th></th>\n",
       "      <th>Height</th>\n",
       "      <th>Weight</th>\n",
       "    </tr>\n",
       "    <tr>\n",
       "      <th>Gender</th>\n",
       "      <th></th>\n",
       "      <th></th>\n",
       "    </tr>\n",
       "  </thead>\n",
       "  <tbody>\n",
       "    <tr>\n",
       "      <th>Female</th>\n",
       "      <td>5000</td>\n",
       "      <td>5000</td>\n",
       "    </tr>\n",
       "    <tr>\n",
       "      <th>Male</th>\n",
       "      <td>5000</td>\n",
       "      <td>5000</td>\n",
       "    </tr>\n",
       "  </tbody>\n",
       "</table>\n",
       "</div>"
      ]
     },
     "execution_count": 106,
     "metadata": {},
     "output_type": "execute_result"
    }
   ],
   "execution_count": 106
  },
  {
   "metadata": {
    "ExecuteTime": {
     "end_time": "2024-04-14T08:58:14.177226Z",
     "start_time": "2024-04-14T08:58:14.174533Z"
    }
   },
   "cell_type": "code",
   "source": [
    "# calculate probability\n",
    "count = count / count.sum()\n",
    "icount = icount / icount.sum()"
   ],
   "id": "ccfbaf75fccc6cce",
   "outputs": [],
   "execution_count": 12
  },
  {
   "metadata": {
    "ExecuteTime": {
     "end_time": "2024-04-14T08:58:15.690090Z",
     "start_time": "2024-04-14T08:58:15.686965Z"
    }
   },
   "cell_type": "code",
   "source": "kl(count, icount)",
   "id": "e63aa55072e4ea5b",
   "outputs": [
    {
     "name": "stderr",
     "output_type": "stream",
     "text": [
      "/tmp/ipykernel_16087/559576496.py:5: RuntimeWarning: divide by zero encountered in divide\n",
      "  result = np.sum(np.where(mask, p * np.log(p / q), 0))\n",
      "/tmp/ipykernel_16087/559576496.py:5: RuntimeWarning: invalid value encountered in divide\n",
      "  result = np.sum(np.where(mask, p * np.log(p / q), 0))\n",
      "/tmp/ipykernel_16087/559576496.py:5: RuntimeWarning: divide by zero encountered in log\n",
      "  result = np.sum(np.where(mask, p * np.log(p / q), 0))\n",
      "/tmp/ipykernel_16087/559576496.py:5: RuntimeWarning: invalid value encountered in multiply\n",
      "  result = np.sum(np.where(mask, p * np.log(p / q), 0))\n"
     ]
    },
    {
     "data": {
      "text/plain": [
       "0.03451691070195356"
      ]
     },
     "execution_count": 13,
     "metadata": {},
     "output_type": "execute_result"
    }
   ],
   "execution_count": 13
  },
  {
   "metadata": {
    "ExecuteTime": {
     "end_time": "2024-04-14T08:58:19.078397Z",
     "start_time": "2024-04-14T08:58:18.974082Z"
    }
   },
   "cell_type": "code",
   "source": [
    "plt.plot(count, c='blue')\n",
    "plt.plot(icount, c='red')"
   ],
   "id": "b6cf6cee3bb48402",
   "outputs": [
    {
     "data": {
      "text/plain": [
       "[<matplotlib.lines.Line2D at 0x7121f2e95010>]"
      ]
     },
     "execution_count": 14,
     "metadata": {},
     "output_type": "execute_result"
    },
    {
     "data": {
      "text/plain": [
       "<Figure size 640x480 with 1 Axes>"
      ],
      "image/png": "[encoded data removed]"
     },
     "metadata": {},
     "output_type": "display_data"
    }
   ],
   "execution_count": 14
  },
  {
   "metadata": {
    "ExecuteTime": {
     "end_time": "2024-04-14T08:57:14.926154Z",
     "start_time": "2024-04-14T08:57:14.924391Z"
    }
   },
   "cell_type": "code",
   "source": "# so the kl value is 3% and the both histograms are about same so the males_height follows normal distribution",
   "id": "86a2ef1aca57a5c5",
   "outputs": [],
   "execution_count": 7
  }
 ],
 "metadata": {
  "kernelspec": {
   "display_name": "Python 3",
   "language": "python",
   "name": "python3"
  },
  "language_info": {
   "codemirror_mode": {
    "name": "ipython",
    "version": 2
   },
   "file_extension": ".py",
   "mimetype": "text/x-python",
   "name": "python",
   "nbconvert_exporter": "python",
   "pygments_lexer": "ipython2",
   "version": "2.7.6"
  }
 },
 "nbformat": 4,
 "nbformat_minor": 5
}
