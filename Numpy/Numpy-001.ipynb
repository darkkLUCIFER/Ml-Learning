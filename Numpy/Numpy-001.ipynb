{
 "cells": [
  {
   "cell_type": "code",
   "outputs": [],
   "source": [
    "import numpy"
   ],
   "metadata": {
    "collapsed": false,
    "ExecuteTime": {
     "end_time": "2024-04-04T18:29:52.203219Z",
     "start_time": "2024-04-04T18:29:52.091137Z"
    }
   },
   "id": "b94a5095f439ff96",
   "execution_count": 1
  },
  {
   "cell_type": "code",
   "outputs": [],
   "source": [
    "vector = [1, 2, 3]"
   ],
   "metadata": {
    "collapsed": false,
    "ExecuteTime": {
     "end_time": "2024-03-27T08:19:33.109182Z",
     "start_time": "2024-03-27T08:19:33.107091Z"
    }
   },
   "id": "348b3d7e62189b91",
   "execution_count": 3
  },
  {
   "cell_type": "code",
   "outputs": [
    {
     "name": "stdout",
     "output_type": "stream",
     "text": [
      "<class 'list'>\n"
     ]
    }
   ],
   "source": [
    "print(type(vector))"
   ],
   "metadata": {
    "collapsed": false,
    "ExecuteTime": {
     "end_time": "2024-03-27T08:19:47.226640Z",
     "start_time": "2024-03-27T08:19:47.224371Z"
    }
   },
   "id": "39cc603fe74e0c8a",
   "execution_count": 4
  },
  {
   "cell_type": "code",
   "outputs": [],
   "source": [
    "# convert a python list to numpy array\n",
    "nvector = numpy.array(vector)"
   ],
   "metadata": {
    "collapsed": false,
    "ExecuteTime": {
     "end_time": "2024-03-27T08:24:52.154657Z",
     "start_time": "2024-03-27T08:24:52.152717Z"
    }
   },
   "id": "26ddbea18a42562d",
   "execution_count": 7
  },
  {
   "cell_type": "code",
   "outputs": [
    {
     "name": "stdout",
     "output_type": "stream",
     "text": [
      "<class 'numpy.ndarray'>\n"
     ]
    }
   ],
   "source": [
    "print(type(nvector))"
   ],
   "metadata": {
    "collapsed": false,
    "ExecuteTime": {
     "end_time": "2024-03-27T08:23:53.575126Z",
     "start_time": "2024-03-27T08:23:53.572671Z"
    }
   },
   "id": "483131c894b50025",
   "execution_count": 6
  },
  {
   "cell_type": "code",
   "outputs": [
    {
     "data": {
      "text/plain": "(3,)"
     },
     "execution_count": 9,
     "metadata": {},
     "output_type": "execute_result"
    }
   ],
   "source": [
    "# return shape of numpy array\n",
    "nvector.shape"
   ],
   "metadata": {
    "collapsed": false,
    "ExecuteTime": {
     "end_time": "2024-03-27T08:26:48.874524Z",
     "start_time": "2024-03-27T08:26:48.872187Z"
    }
   },
   "id": "b7095eee75a6bcbd",
   "execution_count": 9
  },
  {
   "cell_type": "code",
   "outputs": [],
   "source": [
    "matrix = [\n",
    "    [1, 2, 3],\n",
    "    [4, 5, 6],\n",
    "    [7, 8, 9]\n",
    "]"
   ],
   "metadata": {
    "collapsed": false,
    "ExecuteTime": {
     "end_time": "2024-03-27T08:27:38.392207Z",
     "start_time": "2024-03-27T08:27:38.389996Z"
    }
   },
   "id": "5b17fe13929c5090",
   "execution_count": 10
  },
  {
   "cell_type": "code",
   "outputs": [],
   "source": [
    "nmatrix = numpy.array(matrix)"
   ],
   "metadata": {
    "collapsed": false,
    "ExecuteTime": {
     "end_time": "2024-03-27T08:27:57.281462Z",
     "start_time": "2024-03-27T08:27:57.279470Z"
    }
   },
   "id": "ac66389b2d28c4a",
   "execution_count": 11
  },
  {
   "cell_type": "code",
   "outputs": [
    {
     "data": {
      "text/plain": "(3, 3)"
     },
     "execution_count": 12,
     "metadata": {},
     "output_type": "execute_result"
    }
   ],
   "source": [
    "nmatrix.shape"
   ],
   "metadata": {
    "collapsed": false,
    "ExecuteTime": {
     "end_time": "2024-03-27T08:28:04.348255Z",
     "start_time": "2024-03-27T08:28:04.345553Z"
    }
   },
   "id": "979618d5cf183d8c",
   "execution_count": 12
  },
  {
   "cell_type": "code",
   "outputs": [],
   "source": [
    "j = 3\n",
    "\n",
    "i = [5, 7, 9]\n",
    "\n",
    "k = [\n",
    "    [5, 7, 8],\n",
    "    [1, 5, 3],\n",
    "    [7, 4, 9]\n",
    "]\n",
    "\n",
    "# tensor: list of lists that each list contains a list\n",
    "x = [\n",
    "    [[1, 2, 3], [4, 5, 6], [7, 9, 10]],\n",
    "    [[7, 8, 9], [10, 11, 12], [6, 4, 8]],\n",
    "    [[5, 7, 9], [17, 31, 12], [16, 14, 12]]\n",
    "]"
   ],
   "metadata": {
    "collapsed": false,
    "ExecuteTime": {
     "end_time": "2024-03-27T08:55:12.717567Z",
     "start_time": "2024-03-27T08:55:12.714952Z"
    }
   },
   "id": "355c70b9af7bdb14",
   "execution_count": 13
  },
  {
   "cell_type": "code",
   "outputs": [
    {
     "data": {
      "text/plain": "array([1, 2, 3])"
     },
     "execution_count": 12,
     "metadata": {},
     "output_type": "execute_result"
    }
   ],
   "source": [
    "narr = numpy.array([1, 2, 3])\n",
    "narr"
   ],
   "metadata": {
    "collapsed": false,
    "ExecuteTime": {
     "end_time": "2024-04-02T09:56:01.435482Z",
     "start_time": "2024-04-02T09:56:01.432159Z"
    }
   },
   "id": "64d0cb7effcb1ae1",
   "execution_count": 12
  },
  {
   "cell_type": "code",
   "outputs": [
    {
     "data": {
      "text/plain": "array([[1, 2, 3, 1],\n       [2, 3, 1, 2],\n       [3, 1, 2, 3],\n       [1, 2, 3, 1]])"
     },
     "execution_count": 5,
     "metadata": {},
     "output_type": "execute_result"
    }
   ],
   "source": [
    "# change size of an numpy array\n",
    "numpy.resize(narr, (4, 4))\n",
    "\n",
    "# also you can use like below:\n",
    "# narr.resize((3, 3), refcheck=False)\n",
    "# narr"
   ],
   "metadata": {
    "collapsed": false,
    "ExecuteTime": {
     "end_time": "2024-03-30T08:15:00.573312Z",
     "start_time": "2024-03-30T08:15:00.570330Z"
    }
   },
   "id": "f2bc9592fe593325",
   "execution_count": 5
  },
  {
   "cell_type": "code",
   "outputs": [
    {
     "data": {
      "text/plain": "array([[1., 1., 1., 1.],\n       [1., 1., 1., 1.],\n       [1., 1., 1., 1.],\n       [1., 1., 1., 1.],\n       [1., 1., 1., 1.]])"
     },
     "execution_count": 8,
     "metadata": {},
     "output_type": "execute_result"
    }
   ],
   "source": [
    "# create a numpy array that are fields are 1\n",
    "matrix = numpy.ones((5, 4))\n",
    "matrix"
   ],
   "metadata": {
    "collapsed": false,
    "ExecuteTime": {
     "end_time": "2024-03-30T08:16:59.192491Z",
     "start_time": "2024-03-30T08:16:59.189367Z"
    }
   },
   "id": "d33a29530da07939",
   "execution_count": 8
  },
  {
   "cell_type": "code",
   "outputs": [
    {
     "data": {
      "text/plain": "array([[0., 0., 0., 0.],\n       [0., 0., 0., 0.],\n       [0., 0., 0., 0.],\n       [0., 0., 0., 0.]])"
     },
     "execution_count": 11,
     "metadata": {},
     "output_type": "execute_result"
    }
   ],
   "source": [
    "# create a numpy array that are fields are 0\n",
    "matrix = numpy.zeros((4, 4))\n",
    "matrix"
   ],
   "metadata": {
    "collapsed": false
   },
   "id": "7c6b6a78f80dc937",
   "execution_count": 11
  },
  {
   "cell_type": "code",
   "outputs": [
    {
     "data": {
      "text/plain": "array([[1, 0, 0],\n       [0, 2, 0],\n       [0, 0, 3]])"
     },
     "execution_count": 14,
     "metadata": {},
     "output_type": "execute_result"
    }
   ],
   "source": [
    "# returns the diagonal elements of the array\n",
    "numpy.diag(narr)"
   ],
   "metadata": {
    "collapsed": false,
    "ExecuteTime": {
     "end_time": "2024-03-30T08:20:45.513273Z",
     "start_time": "2024-03-30T08:20:45.510425Z"
    }
   },
   "id": "f71562f1473cef93",
   "execution_count": 14
  },
  {
   "cell_type": "code",
   "outputs": [
    {
     "data": {
      "text/plain": "array([1, 1, 1, 1, 1, 2, 2, 2, 2, 2, 3, 3, 3, 3, 3])"
     },
     "execution_count": 16,
     "metadata": {},
     "output_type": "execute_result"
    }
   ],
   "source": [
    "# repeat each element in list  \n",
    "numpy.repeat([1, 2, 3], 5)"
   ],
   "metadata": {
    "collapsed": false,
    "ExecuteTime": {
     "end_time": "2024-03-30T10:03:32.789498Z",
     "start_time": "2024-03-30T10:03:32.786375Z"
    }
   },
   "id": "2976347d8c4a00c0",
   "execution_count": 16
  },
  {
   "cell_type": "code",
   "outputs": [
    {
     "data": {
      "text/plain": "array([[1, 1, 1, 1, 1],\n       [1, 1, 1, 1, 1],\n       [1, 1, 1, 1, 1],\n       [1, 1, 1, 1, 1]])"
     },
     "execution_count": 22,
     "metadata": {},
     "output_type": "execute_result"
    }
   ],
   "source": [
    "m1 = numpy.ones((4, 5), dtype=int)\n",
    "m1"
   ],
   "metadata": {
    "collapsed": false,
    "ExecuteTime": {
     "end_time": "2024-03-30T10:13:44.876124Z",
     "start_time": "2024-03-30T10:13:44.872489Z"
    }
   },
   "id": "ae49bad78c15e099",
   "execution_count": 22
  },
  {
   "cell_type": "code",
   "outputs": [
    {
     "data": {
      "text/plain": "array([[0, 0, 0, 0, 0],\n       [0, 0, 0, 0, 0],\n       [0, 0, 0, 0, 0],\n       [0, 0, 0, 0, 0]])"
     },
     "execution_count": 28,
     "metadata": {},
     "output_type": "execute_result"
    }
   ],
   "source": [
    "m2 = numpy.zeros((4, 5), dtype=int)\n",
    "m2"
   ],
   "metadata": {
    "collapsed": false,
    "ExecuteTime": {
     "end_time": "2024-03-30T10:14:39.704551Z",
     "start_time": "2024-03-30T10:14:39.700720Z"
    }
   },
   "id": "a1aeab23898fde05",
   "execution_count": 28
  },
  {
   "cell_type": "code",
   "outputs": [
    {
     "data": {
      "text/plain": "array([[1, 1, 1, 1, 1],\n       [1, 1, 1, 1, 1],\n       [1, 1, 1, 1, 1],\n       [1, 1, 1, 1, 1],\n       [0, 0, 0, 0, 0],\n       [0, 0, 0, 0, 0],\n       [0, 0, 0, 0, 0],\n       [0, 0, 0, 0, 0]])"
     },
     "execution_count": 29,
     "metadata": {},
     "output_type": "execute_result"
    }
   ],
   "source": [
    "# function is used to stack arrays in a vertical sequence (row-wise)\n",
    "numpy.vstack([m1, m2])"
   ],
   "metadata": {
    "collapsed": false,
    "ExecuteTime": {
     "end_time": "2024-03-30T10:14:41.709454Z",
     "start_time": "2024-03-30T10:14:41.706474Z"
    }
   },
   "id": "dca7ce385b27cf3a",
   "execution_count": 29
  },
  {
   "cell_type": "code",
   "outputs": [
    {
     "data": {
      "text/plain": "array([[1, 1, 1, 1, 1, 0, 0, 0, 0, 0],\n       [1, 1, 1, 1, 1, 0, 0, 0, 0, 0],\n       [1, 1, 1, 1, 1, 0, 0, 0, 0, 0],\n       [1, 1, 1, 1, 1, 0, 0, 0, 0, 0]])"
     },
     "execution_count": 30,
     "metadata": {},
     "output_type": "execute_result"
    }
   ],
   "source": [
    "# function is used to stack arrays in a horizontal sequence (column-wise)\n",
    "numpy.hstack([m1, m2])"
   ],
   "metadata": {
    "collapsed": false,
    "ExecuteTime": {
     "end_time": "2024-03-30T11:14:38.474553Z",
     "start_time": "2024-03-30T11:14:38.470615Z"
    }
   },
   "id": "c6c933e88f95ee44",
   "execution_count": 30
  },
  {
   "cell_type": "code",
   "outputs": [],
   "source": [
    "# multiply lists with numpy array\n",
    "x = numpy.array([1, 2, 3])\n",
    "y = numpy.array([4, 5, 6])"
   ],
   "metadata": {
    "collapsed": false,
    "ExecuteTime": {
     "end_time": "2024-04-02T09:49:09.605674Z",
     "start_time": "2024-04-02T09:49:09.603563Z"
    }
   },
   "id": "7a30e775692b156e",
   "execution_count": 7
  },
  {
   "cell_type": "code",
   "outputs": [
    {
     "data": {
      "text/plain": "array([ 4, 10, 18])"
     },
     "execution_count": 8,
     "metadata": {},
     "output_type": "execute_result"
    }
   ],
   "source": [
    "z = x * y\n",
    "z"
   ],
   "metadata": {
    "collapsed": false,
    "ExecuteTime": {
     "end_time": "2024-04-02T09:49:10.789371Z",
     "start_time": "2024-04-02T09:49:10.786035Z"
    }
   },
   "id": "9904f9fb02e0f12c",
   "execution_count": 8
  },
  {
   "cell_type": "code",
   "outputs": [
    {
     "data": {
      "text/plain": "array([1, 4, 9])"
     },
     "execution_count": 9,
     "metadata": {},
     "output_type": "execute_result"
    }
   ],
   "source": [
    "# power\n",
    "x ** 2"
   ],
   "metadata": {
    "collapsed": false,
    "ExecuteTime": {
     "end_time": "2024-04-02T09:49:37.400745Z",
     "start_time": "2024-04-02T09:49:37.398124Z"
    }
   },
   "id": "bb58702b9c921ec4",
   "execution_count": 9
  },
  {
   "cell_type": "code",
   "outputs": [
    {
     "data": {
      "text/plain": "32"
     },
     "execution_count": 10,
     "metadata": {},
     "output_type": "execute_result"
    }
   ],
   "source": [
    "# Internal multiplication\n",
    "x.dot(y)"
   ],
   "metadata": {
    "collapsed": false,
    "ExecuteTime": {
     "end_time": "2024-04-02T09:51:36.127537Z",
     "start_time": "2024-04-02T09:51:36.125164Z"
    }
   },
   "id": "b26fd27b3d06c2e6",
   "execution_count": 10
  },
  {
   "cell_type": "code",
   "outputs": [],
   "source": [
    "yarr = numpy.array([\n",
    "    [1, 2, 3],\n",
    "    [0, 0, 0],\n",
    "    [0, 0, 0]\n",
    "])"
   ],
   "metadata": {
    "collapsed": false,
    "ExecuteTime": {
     "end_time": "2024-04-04T07:59:34.610619Z",
     "start_time": "2024-04-04T07:59:34.608428Z"
    }
   },
   "id": "96554e8980aa7621",
   "execution_count": 2
  },
  {
   "cell_type": "code",
   "outputs": [
    {
     "data": {
      "text/plain": "array([[1, 2, 3],\n       [0, 0, 0],\n       [0, 0, 0]])"
     },
     "execution_count": 3,
     "metadata": {},
     "output_type": "execute_result"
    }
   ],
   "source": [
    "yarr"
   ],
   "metadata": {
    "collapsed": false,
    "ExecuteTime": {
     "end_time": "2024-04-04T07:59:36.152011Z",
     "start_time": "2024-04-04T07:59:36.147313Z"
    }
   },
   "id": "33f840247307dd7",
   "execution_count": 3
  },
  {
   "cell_type": "code",
   "outputs": [
    {
     "data": {
      "text/plain": "array([[1, 0, 0],\n       [2, 0, 0],\n       [3, 0, 0]])"
     },
     "execution_count": 21,
     "metadata": {},
     "output_type": "execute_result"
    }
   ],
   "source": [
    "# transpose\n",
    "yarr.T"
   ],
   "metadata": {
    "collapsed": false,
    "ExecuteTime": {
     "end_time": "2024-04-02T09:58:22.944475Z",
     "start_time": "2024-04-02T09:58:22.941214Z"
    }
   },
   "id": "43ab92b0ed065e02",
   "execution_count": 21
  },
  {
   "cell_type": "code",
   "outputs": [
    {
     "data": {
      "text/plain": "array([[1., 2., 3.],\n       [0., 0., 0.],\n       [0., 0., 0.]], dtype=float32)"
     },
     "execution_count": 24,
     "metadata": {},
     "output_type": "execute_result"
    }
   ],
   "source": [
    "# change type of an numpy array\n",
    "yarr.astype('f')"
   ],
   "metadata": {
    "collapsed": false,
    "ExecuteTime": {
     "end_time": "2024-04-02T10:17:07.895554Z",
     "start_time": "2024-04-02T10:17:07.892385Z"
    }
   },
   "id": "424d276d20634ee5",
   "execution_count": 24
  },
  {
   "cell_type": "code",
   "outputs": [
    {
     "data": {
      "text/plain": "6"
     },
     "execution_count": 25,
     "metadata": {},
     "output_type": "execute_result"
    }
   ],
   "source": [
    "# calculates the sum of all elements in the array\n",
    "yarr.sum()"
   ],
   "metadata": {
    "collapsed": false,
    "ExecuteTime": {
     "end_time": "2024-04-02T10:19:37.802685Z",
     "start_time": "2024-04-02T10:19:37.799633Z"
    }
   },
   "id": "c476f778744599bf",
   "execution_count": 25
  },
  {
   "cell_type": "code",
   "outputs": [
    {
     "data": {
      "text/plain": "0"
     },
     "execution_count": 26,
     "metadata": {},
     "output_type": "execute_result"
    }
   ],
   "source": [
    "# returns the minimum element in the array\n",
    "yarr.min()"
   ],
   "metadata": {
    "collapsed": false,
    "ExecuteTime": {
     "end_time": "2024-04-02T10:22:49.261740Z",
     "start_time": "2024-04-02T10:22:49.258699Z"
    }
   },
   "id": "339eabfe608abdf0",
   "execution_count": 26
  },
  {
   "cell_type": "code",
   "outputs": [
    {
     "data": {
      "text/plain": "3"
     },
     "execution_count": 27,
     "metadata": {},
     "output_type": "execute_result"
    }
   ],
   "source": [
    "# returns the maximum element in the array\n",
    "yarr.max()"
   ],
   "metadata": {
    "collapsed": false,
    "ExecuteTime": {
     "end_time": "2024-04-02T10:24:20.554283Z",
     "start_time": "2024-04-02T10:24:20.551463Z"
    }
   },
   "id": "bdbde5161ebbfded",
   "execution_count": 27
  },
  {
   "cell_type": "code",
   "outputs": [
    {
     "data": {
      "text/plain": "2"
     },
     "execution_count": 28,
     "metadata": {},
     "output_type": "execute_result"
    }
   ],
   "source": [
    "# returns the index of the maximum value in the array\n",
    "yarr.argmax()"
   ],
   "metadata": {
    "collapsed": false,
    "ExecuteTime": {
     "end_time": "2024-04-02T10:43:56.090498Z",
     "start_time": "2024-04-02T10:43:56.087846Z"
    }
   },
   "id": "570bc72f134924da",
   "execution_count": 28
  },
  {
   "cell_type": "code",
   "outputs": [
    {
     "data": {
      "text/plain": "3"
     },
     "execution_count": 29,
     "metadata": {},
     "output_type": "execute_result"
    }
   ],
   "source": [
    "# returns the index of the minimum value in the array\n",
    "yarr.argmin()"
   ],
   "metadata": {
    "collapsed": false,
    "ExecuteTime": {
     "end_time": "2024-04-02T10:48:48.025721Z",
     "start_time": "2024-04-02T10:48:48.022954Z"
    }
   },
   "id": "c43ad028cdc3d9ac",
   "execution_count": 29
  },
  {
   "cell_type": "code",
   "outputs": [
    {
     "data": {
      "text/plain": "0.6666666666666666"
     },
     "execution_count": 5,
     "metadata": {},
     "output_type": "execute_result"
    }
   ],
   "source": [
    "# calculates the arithmetic mean of all elements in the array\n",
    "# computes the average value of the elements contained in the array\n",
    "yarr.mean()"
   ],
   "metadata": {
    "collapsed": false,
    "ExecuteTime": {
     "end_time": "2024-04-04T08:02:50.994035Z",
     "start_time": "2024-04-04T08:02:50.990440Z"
    }
   },
   "id": "64d6c4b63d74f294",
   "execution_count": 5
  },
  {
   "cell_type": "code",
   "outputs": [
    {
     "data": {
      "text/plain": "1.0540925533894598"
     },
     "execution_count": 6,
     "metadata": {},
     "output_type": "execute_result"
    }
   ],
   "source": [
    "# calculates the standard deviation of the elements in the array\n",
    "yarr.std()"
   ],
   "metadata": {
    "collapsed": false,
    "ExecuteTime": {
     "end_time": "2024-04-04T08:27:23.595529Z",
     "start_time": "2024-04-04T08:27:23.592594Z"
    }
   },
   "id": "ebc9b0aaf68b9cf8",
   "execution_count": 6
  },
  {
   "cell_type": "code",
   "outputs": [
    {
     "data": {
      "text/plain": "array([  0,   1,   4,   9,  16,  25,  36,  49,  64,  81, 100, 121, 144,\n       169, 196])"
     },
     "execution_count": 10,
     "metadata": {},
     "output_type": "execute_result"
    }
   ],
   "source": [
    "# is a function that creates an array containing evenly spaced values within a specified range. It is similar to Python's built-in range() function but returns an array instead of a list\n",
    "mr = numpy.arange(15) ** 2\n",
    "mr"
   ],
   "metadata": {
    "collapsed": false,
    "ExecuteTime": {
     "end_time": "2024-04-04T09:00:12.095407Z",
     "start_time": "2024-04-04T09:00:12.091934Z"
    }
   },
   "id": "bf0c1bcd03df9b4b",
   "execution_count": 10
  },
  {
   "cell_type": "code",
   "outputs": [
    {
     "data": {
      "text/plain": "array([ 81, 121, 169])"
     },
     "execution_count": 12,
     "metadata": {},
     "output_type": "execute_result"
    }
   ],
   "source": [
    "mr[-6:14:2]"
   ],
   "metadata": {
    "collapsed": false,
    "ExecuteTime": {
     "end_time": "2024-04-04T09:04:49.773874Z",
     "start_time": "2024-04-04T09:04:49.770551Z"
    }
   },
   "id": "70cdc0207a00ab13",
   "execution_count": 12
  },
  {
   "cell_type": "code",
   "outputs": [
    {
     "data": {
      "text/plain": "4"
     },
     "execution_count": 13,
     "metadata": {},
     "output_type": "execute_result"
    }
   ],
   "source": [
    "mr[2]"
   ],
   "metadata": {
    "collapsed": false,
    "ExecuteTime": {
     "end_time": "2024-04-04T09:07:08.775736Z",
     "start_time": "2024-04-04T09:07:08.772935Z"
    }
   },
   "id": "9ed437a3fe114561",
   "execution_count": 13
  },
  {
   "cell_type": "code",
   "outputs": [
    {
     "data": {
      "text/plain": "array([ 1,  4,  9, 16])"
     },
     "execution_count": 14,
     "metadata": {},
     "output_type": "execute_result"
    }
   ],
   "source": [
    "mr[1:5]"
   ],
   "metadata": {
    "collapsed": false,
    "ExecuteTime": {
     "end_time": "2024-04-04T09:07:36.450597Z",
     "start_time": "2024-04-04T09:07:36.447742Z"
    }
   },
   "id": "66d9f0078a1641ac",
   "execution_count": 14
  },
  {
   "cell_type": "code",
   "outputs": [
    {
     "data": {
      "text/plain": "array([ 0,  1,  4,  9, 16])"
     },
     "execution_count": 15,
     "metadata": {},
     "output_type": "execute_result"
    }
   ],
   "source": [
    "mr[:5]"
   ],
   "metadata": {
    "collapsed": false,
    "ExecuteTime": {
     "end_time": "2024-04-04T09:07:54.093140Z",
     "start_time": "2024-04-04T09:07:54.090553Z"
    }
   },
   "id": "6f4de232099bdc11",
   "execution_count": 15
  },
  {
   "cell_type": "code",
   "outputs": [
    {
     "data": {
      "text/plain": "array([[1, 2, 3],\n       [0, 0, 0],\n       [0, 0, 0]])"
     },
     "execution_count": 9,
     "metadata": {},
     "output_type": "execute_result"
    }
   ],
   "source": [
    "warr = numpy.array(\n",
    "    [\n",
    "        [1, 2, 3],\n",
    "        [0, 0, 0],\n",
    "        [0, 0, 0]\n",
    "    ]\n",
    ")\n",
    "warr"
   ],
   "metadata": {
    "collapsed": false,
    "ExecuteTime": {
     "end_time": "2024-04-04T19:13:32.841200Z",
     "start_time": "2024-04-04T19:13:32.837766Z"
    }
   },
   "id": "ef9b5c8b7f82333e",
   "execution_count": 9
  },
  {
   "cell_type": "code",
   "outputs": [
    {
     "data": {
      "text/plain": "array([[2, 3],\n       [0, 0]])"
     },
     "execution_count": 18,
     "metadata": {},
     "output_type": "execute_result"
    }
   ],
   "source": [
    "warr[0:2, 1:3]"
   ],
   "metadata": {
    "collapsed": false,
    "ExecuteTime": {
     "end_time": "2024-04-04T12:47:28.799701Z",
     "start_time": "2024-04-04T12:47:28.796488Z"
    }
   },
   "id": "438f045eda07eb69",
   "execution_count": 18
  },
  {
   "cell_type": "code",
   "outputs": [
    {
     "data": {
      "text/plain": "array([3, 0])"
     },
     "execution_count": 19,
     "metadata": {},
     "output_type": "execute_result"
    }
   ],
   "source": [
    "warr[::2, -1]"
   ],
   "metadata": {
    "collapsed": false,
    "ExecuteTime": {
     "end_time": "2024-04-04T12:57:18.743619Z",
     "start_time": "2024-04-04T12:57:18.740027Z"
    }
   },
   "id": "9662be8d2af30aa9",
   "execution_count": 19
  },
  {
   "cell_type": "code",
   "outputs": [
    {
     "data": {
      "text/plain": "array([[3],\n       [0]])"
     },
     "execution_count": 20,
     "metadata": {},
     "output_type": "execute_result"
    }
   ],
   "source": [
    "warr[::2, -1:]"
   ],
   "metadata": {
    "collapsed": false,
    "ExecuteTime": {
     "end_time": "2024-04-04T12:58:50.702915Z",
     "start_time": "2024-04-04T12:58:50.699921Z"
    }
   },
   "id": "8f4f219ecb0bae68",
   "execution_count": 20
  },
  {
   "cell_type": "code",
   "outputs": [
    {
     "data": {
      "text/plain": "array([[0],\n       [0],\n       [3]])"
     },
     "execution_count": 21,
     "metadata": {},
     "output_type": "execute_result"
    }
   ],
   "source": [
    "warr[::-1, 2:]"
   ],
   "metadata": {
    "collapsed": false,
    "ExecuteTime": {
     "end_time": "2024-04-04T13:00:00.161840Z",
     "start_time": "2024-04-04T13:00:00.159208Z"
    }
   },
   "id": "f1274bdc67b8fa62",
   "execution_count": 21
  },
  {
   "cell_type": "code",
   "outputs": [
    {
     "data": {
      "text/plain": "array([1, 2, 3, 0, 0, 0, 0, 0, 0])"
     },
     "execution_count": 25,
     "metadata": {},
     "output_type": "execute_result"
    }
   ],
   "source": [
    "warr[warr >= 0]"
   ],
   "metadata": {
    "collapsed": false,
    "ExecuteTime": {
     "end_time": "2024-04-04T13:11:58.925836Z",
     "start_time": "2024-04-04T13:11:58.922412Z"
    }
   },
   "id": "fddce7d88c033305",
   "execution_count": 25
  },
  {
   "cell_type": "code",
   "outputs": [
    {
     "data": {
      "text/plain": "array([2, 3])"
     },
     "execution_count": 26,
     "metadata": {},
     "output_type": "execute_result"
    }
   ],
   "source": [
    "warr[warr >= 2]"
   ],
   "metadata": {
    "collapsed": false,
    "ExecuteTime": {
     "end_time": "2024-04-04T13:12:05.549685Z",
     "start_time": "2024-04-04T13:12:05.546373Z"
    }
   },
   "id": "2aa2bd2df8aa4b34",
   "execution_count": 26
  },
  {
   "cell_type": "code",
   "outputs": [
    {
     "data": {
      "text/plain": "array([[False,  True,  True],\n       [False, False, False],\n       [False, False, False]])"
     },
     "execution_count": 27,
     "metadata": {},
     "output_type": "execute_result"
    }
   ],
   "source": [
    "warr >= 2"
   ],
   "metadata": {
    "collapsed": false,
    "ExecuteTime": {
     "end_time": "2024-04-04T13:12:29.629784Z",
     "start_time": "2024-04-04T13:12:29.626812Z"
    }
   },
   "id": "92d4f5875d10e531",
   "execution_count": 27
  },
  {
   "cell_type": "code",
   "outputs": [
    {
     "data": {
      "text/plain": "array([0, 0, 0])"
     },
     "execution_count": 28,
     "metadata": {},
     "output_type": "execute_result"
    }
   ],
   "source": [
    "marr = warr[-1]\n",
    "marr"
   ],
   "metadata": {
    "collapsed": false,
    "ExecuteTime": {
     "end_time": "2024-04-04T13:13:44.011097Z",
     "start_time": "2024-04-04T13:13:44.008067Z"
    }
   },
   "id": "f5646fe2976327fe",
   "execution_count": 28
  },
  {
   "cell_type": "code",
   "outputs": [
    {
     "data": {
      "text/plain": "array([1, 1, 1])"
     },
     "execution_count": 29,
     "metadata": {},
     "output_type": "execute_result"
    }
   ],
   "source": [
    "marr[:] = 1\n",
    "marr"
   ],
   "metadata": {
    "collapsed": false,
    "ExecuteTime": {
     "end_time": "2024-04-04T13:14:20.076197Z",
     "start_time": "2024-04-04T13:14:20.073708Z"
    }
   },
   "id": "96e7e455e364c882",
   "execution_count": 29
  },
  {
   "cell_type": "code",
   "outputs": [
    {
     "data": {
      "text/plain": "array([2, 2, 1])"
     },
     "execution_count": 31,
     "metadata": {},
     "output_type": "execute_result"
    }
   ],
   "source": [
    "marr[:2] = 2\n",
    "marr"
   ],
   "metadata": {
    "collapsed": false,
    "ExecuteTime": {
     "end_time": "2024-04-04T13:15:16.767830Z",
     "start_time": "2024-04-04T13:15:16.764890Z"
    }
   },
   "id": "d1d7a6f97474526f",
   "execution_count": 31
  },
  {
   "cell_type": "code",
   "outputs": [
    {
     "data": {
      "text/plain": "array([[1, 2, 3],\n       [0, 0, 0],\n       [2, 2, 1]])"
     },
     "execution_count": 32,
     "metadata": {},
     "output_type": "execute_result"
    }
   ],
   "source": [
    "warr"
   ],
   "metadata": {
    "collapsed": false,
    "ExecuteTime": {
     "end_time": "2024-04-04T13:15:50.371221Z",
     "start_time": "2024-04-04T13:15:50.367926Z"
    }
   },
   "id": "e826828cc43fe586",
   "execution_count": 32
  },
  {
   "cell_type": "code",
   "outputs": [
    {
     "data": {
      "text/plain": "array([[1, 2, 3],\n       [0, 0, 0],\n       [2, 2, 1]])"
     },
     "execution_count": 33,
     "metadata": {},
     "output_type": "execute_result"
    }
   ],
   "source": [
    "# copy an array to another variable\n",
    "marr = warr.copy()\n",
    "marr"
   ],
   "metadata": {
    "collapsed": false,
    "ExecuteTime": {
     "end_time": "2024-04-04T13:22:00.821859Z",
     "start_time": "2024-04-04T13:22:00.819324Z"
    }
   },
   "id": "ad44a657c693f135",
   "execution_count": 33
  },
  {
   "cell_type": "code",
   "outputs": [
    {
     "data": {
      "text/plain": "array([[4, 4, 3],\n       [8, 7, 0],\n       [6, 7, 9],\n       [6, 2, 1]])"
     },
     "execution_count": 5,
     "metadata": {},
     "output_type": "execute_result"
    }
   ],
   "source": [
    "tarr = numpy.random.randint(0, 10, (4, 3))\n",
    "tarr"
   ],
   "metadata": {
    "collapsed": false,
    "ExecuteTime": {
     "end_time": "2024-04-04T18:59:22.510996Z",
     "start_time": "2024-04-04T18:59:22.507559Z"
    }
   },
   "id": "7c300ab6e7492d91",
   "execution_count": 5
  },
  {
   "cell_type": "code",
   "outputs": [
    {
     "data": {
      "text/plain": "array([[1]])"
     },
     "execution_count": 6,
     "metadata": {},
     "output_type": "execute_result"
    }
   ],
   "source": [
    "tarr[3::3, 4:1:-2]"
   ],
   "metadata": {
    "collapsed": false,
    "ExecuteTime": {
     "end_time": "2024-04-04T19:00:45.887048Z",
     "start_time": "2024-04-04T19:00:45.883878Z"
    }
   },
   "id": "d05571bb6ee0d362",
   "execution_count": 6
  },
  {
   "cell_type": "code",
   "outputs": [
    {
     "name": "stdout",
     "output_type": "stream",
     "text": [
      "[16 16  9]\n",
      "[64 49  0]\n",
      "[36 49 81]\n",
      "[36  4  1]\n"
     ]
    }
   ],
   "source": [
    "for i in tarr:\n",
    "    i = i ** 2\n",
    "    print(i)"
   ],
   "metadata": {
    "collapsed": false,
    "ExecuteTime": {
     "end_time": "2024-04-04T19:01:35.646629Z",
     "start_time": "2024-04-04T19:01:35.644130Z"
    }
   },
   "id": "6da01f8fb91536c2",
   "execution_count": 7
  },
  {
   "cell_type": "code",
   "outputs": [
    {
     "name": "stdout",
     "output_type": "stream",
     "text": [
      "index(' 0 ') is: [4 4 3]\n",
      "index(' 1 ') is: [8 7 0]\n",
      "index(' 2 ') is: [6 7 9]\n",
      "index(' 3 ') is: [6 2 1]\n"
     ]
    }
   ],
   "source": [
    "for i, j in enumerate(tarr):\n",
    "    print(f\"index(' {i} ') is: {j}\")"
   ],
   "metadata": {
    "collapsed": false,
    "ExecuteTime": {
     "end_time": "2024-04-04T19:03:00.221605Z",
     "start_time": "2024-04-04T19:03:00.218321Z"
    }
   },
   "id": "d58a6616c0b67ccd",
   "execution_count": 8
  },
  {
   "cell_type": "code",
   "outputs": [
    {
     "data": {
      "text/plain": "[(array([1, 2, 3]), array([4, 4, 3])),\n (array([0, 0, 0]), array([8, 7, 0])),\n (array([0, 0, 0]), array([6, 7, 9]))]"
     },
     "execution_count": 10,
     "metadata": {},
     "output_type": "execute_result"
    }
   ],
   "source": [
    "list(zip(warr, tarr))"
   ],
   "metadata": {
    "collapsed": false,
    "ExecuteTime": {
     "end_time": "2024-04-04T19:13:50.811572Z",
     "start_time": "2024-04-04T19:13:50.808561Z"
    }
   },
   "id": "43b8b7adec8762ce",
   "execution_count": 10
  },
  {
   "cell_type": "code",
   "outputs": [
    {
     "data": {
      "text/plain": "array([1, 2, 3, 4, 5, 6, 7, 8])"
     },
     "execution_count": 12,
     "metadata": {},
     "output_type": "execute_result"
    }
   ],
   "source": [
    "arr = [1, 2, 3, 4, 5, 6, 7, 8]\n",
    "arr = numpy.array((arr))\n",
    "arr"
   ],
   "metadata": {
    "collapsed": false,
    "ExecuteTime": {
     "end_time": "2024-04-04T19:15:58.630037Z",
     "start_time": "2024-04-04T19:15:58.626663Z"
    }
   },
   "id": "b199503d07775f90",
   "execution_count": 12
  },
  {
   "cell_type": "code",
   "outputs": [
    {
     "data": {
      "text/plain": "4"
     },
     "execution_count": 15,
     "metadata": {},
     "output_type": "execute_result"
    }
   ],
   "source": [
    "len(arr) // 2"
   ],
   "metadata": {
    "collapsed": false,
    "ExecuteTime": {
     "end_time": "2024-04-04T19:16:16.221574Z",
     "start_time": "2024-04-04T19:16:16.218609Z"
    }
   },
   "id": "a1b691047078d896",
   "execution_count": 15
  },
  {
   "cell_type": "code",
   "outputs": [
    {
     "data": {
      "text/plain": "[4]"
     },
     "execution_count": 16,
     "metadata": {},
     "output_type": "execute_result"
    }
   ],
   "source": [
    "p = [len(arr) // 2]\n",
    "p"
   ],
   "metadata": {
    "collapsed": false,
    "ExecuteTime": {
     "end_time": "2024-04-04T19:17:36.183966Z",
     "start_time": "2024-04-04T19:17:36.180953Z"
    }
   },
   "id": "94808f9d0712c6c1",
   "execution_count": 16
  },
  {
   "cell_type": "code",
   "outputs": [
    {
     "data": {
      "text/plain": "[1, 2, 3]"
     },
     "execution_count": 18,
     "metadata": {},
     "output_type": "execute_result"
    }
   ],
   "source": [
    "l = [x for x in arr if x < p]\n",
    "l"
   ],
   "metadata": {
    "collapsed": false,
    "ExecuteTime": {
     "end_time": "2024-04-04T19:19:50.685669Z",
     "start_time": "2024-04-04T19:19:50.683069Z"
    }
   },
   "id": "8dc887f511e00497",
   "execution_count": 18
  },
  {
   "cell_type": "code",
   "outputs": [
    {
     "data": {
      "text/plain": "[5, 6, 7, 8]"
     },
     "execution_count": 19,
     "metadata": {},
     "output_type": "execute_result"
    }
   ],
   "source": [
    "r = [x for x in arr if x > p]\n",
    "r"
   ],
   "metadata": {
    "collapsed": false,
    "ExecuteTime": {
     "end_time": "2024-04-04T19:20:05.545207Z",
     "start_time": "2024-04-04T19:20:05.541945Z"
    }
   },
   "id": "8ecb83f8b47a93af",
   "execution_count": 19
  },
  {
   "cell_type": "code",
   "outputs": [
    {
     "data": {
      "text/plain": "[4]"
     },
     "execution_count": 20,
     "metadata": {},
     "output_type": "execute_result"
    }
   ],
   "source": [
    "m = [x for x in arr if x == p]\n",
    "m"
   ],
   "metadata": {
    "collapsed": false,
    "ExecuteTime": {
     "end_time": "2024-04-04T19:20:18.480227Z",
     "start_time": "2024-04-04T19:20:18.476951Z"
    }
   },
   "id": "4e29cbc1b98e55a7",
   "execution_count": 20
  },
  {
   "cell_type": "code",
   "outputs": [
    {
     "data": {
      "text/plain": "[1, 2, 3, 4, 5, 6, 7, 8]"
     },
     "execution_count": 25,
     "metadata": {},
     "output_type": "execute_result"
    }
   ],
   "source": [
    "l + m + r"
   ],
   "metadata": {
    "collapsed": false,
    "ExecuteTime": {
     "end_time": "2024-04-04T19:24:16.252981Z",
     "start_time": "2024-04-04T19:24:16.249832Z"
    }
   },
   "id": "5085955885adc03d",
   "execution_count": 25
  },
  {
   "cell_type": "code",
   "outputs": [],
   "source": [
    "def quicksort(arr):\n",
    "    if len(arr) <= 1:\n",
    "        return arr\n",
    "    arr = numpy.array((arr))\n",
    "    p = arr[len(arr) // 2]\n",
    "    l = [x for x in arr if x < p]\n",
    "    m = [x for x in arr if x == p]\n",
    "    r = [x for x in arr if x > p]\n",
    "    return quicksort(l) + m + quicksort(r)"
   ],
   "metadata": {
    "collapsed": false,
    "ExecuteTime": {
     "end_time": "2024-04-04T19:23:53.529041Z",
     "start_time": "2024-04-04T19:23:53.526239Z"
    }
   },
   "id": "6966203140cb0e67",
   "execution_count": 23
  },
  {
   "cell_type": "code",
   "outputs": [
    {
     "data": {
      "text/plain": "[1, 3, 3, 4, 5, 6, 9]"
     },
     "execution_count": 24,
     "metadata": {},
     "output_type": "execute_result"
    }
   ],
   "source": [
    "h = [3, 6, 4, 1, 3, 9, 5]\n",
    "quicksort(h)"
   ],
   "metadata": {
    "collapsed": false,
    "ExecuteTime": {
     "end_time": "2024-04-04T19:24:00.106918Z",
     "start_time": "2024-04-04T19:24:00.103824Z"
    }
   },
   "id": "7cb5d8d04a1aedbd",
   "execution_count": 24
  },
  {
   "cell_type": "code",
   "outputs": [],
   "source": [],
   "metadata": {
    "collapsed": false
   },
   "id": "b56b2f9b3b382c"
  }
 ],
 "metadata": {
  "kernelspec": {
   "display_name": "Python 3",
   "language": "python",
   "name": "python3"
  },
  "language_info": {
   "codemirror_mode": {
    "name": "ipython",
    "version": 2
   },
   "file_extension": ".py",
   "mimetype": "text/x-python",
   "name": "python",
   "nbconvert_exporter": "python",
   "pygments_lexer": "ipython2",
   "version": "2.7.6"
  }
 },
 "nbformat": 4,
 "nbformat_minor": 5
}
