{
 "cells": [
  {
   "cell_type": "code",
   "id": "initial_id",
   "metadata": {
    "collapsed": true,
    "ExecuteTime": {
     "end_time": "2024-04-07T08:43:59.146650Z",
     "start_time": "2024-04-07T08:43:58.786761Z"
    }
   },
   "source": [
    "import pandas as pd"
   ],
   "outputs": [],
   "execution_count": 1
  },
  {
   "cell_type": "code",
   "outputs": [
    {
     "data": {
      "text/plain": "    id         name  class  mark  gender\n0    1     John Deo   Four    75  female\n1    2     Max Ruin  Three    85    male\n2    3       Arnold  Three    55    male\n3    4   Krish Star   Four    60  female\n4    5    John Mike   Four    60  female\n5    6    Alex John   Four    55    male\n6    7  My John Rob  Fifth    78    male\n7    8       Asruid   Five    85    male\n8    9      Tes Qry    Six    78    male\n9   10     Big John   Four    55  female\n10  11       Ronald    Six    89  female\n11  12        Recky    Six    94  female\n12  13          Kty  Seven    88  female\n13  14         Bigy  Seven    88  female\n14  15     Tade Row   Four    88    male\n15  16        Gimmy   Four    88    male\n16  17        Tumyu    Six    54    male\n17  18        Honny   Five    75    male\n18  19        Tinny   Nine    18    male\n19  20       Jackly   Nine    65  female\n20  21   Babby John   Four    69  female\n21  22       Reggid  Seven    55  female\n22  23        Herod  Eight    79    male\n23  24    Tiddy Now  Seven    78    male\n24  25     Giff Tow  Seven    88    male\n25  26       Crelea  Seven    79    male\n26  27     Big Nose  Three    81  female\n27  28    Rojj Base  Seven    86  female\n28  29  Tess Played  Seven    55    male\n29  30    Reppy Red    Six    79  female\n30  31  Marry Toeey   Four    88    male\n31  32    Binn Rott  Seven    90  female\n32  33    Kenn Rein    Six    96  female\n33  34     Gain Toe  Seven    69    male\n34  35   Rows Noump    Six    88  female",
      "text/html": "<div>\n<style scoped>\n    .dataframe tbody tr th:only-of-type {\n        vertical-align: middle;\n    }\n\n    .dataframe tbody tr th {\n        vertical-align: top;\n    }\n\n    .dataframe thead th {\n        text-align: right;\n    }\n</style>\n<table border=\"1\" class=\"dataframe\">\n  <thead>\n    <tr style=\"text-align: right;\">\n      <th></th>\n      <th>id</th>\n      <th>name</th>\n      <th>class</th>\n      <th>mark</th>\n      <th>gender</th>\n    </tr>\n  </thead>\n  <tbody>\n    <tr>\n      <th>0</th>\n      <td>1</td>\n      <td>John Deo</td>\n      <td>Four</td>\n      <td>75</td>\n      <td>female</td>\n    </tr>\n    <tr>\n      <th>1</th>\n      <td>2</td>\n      <td>Max Ruin</td>\n      <td>Three</td>\n      <td>85</td>\n      <td>male</td>\n    </tr>\n    <tr>\n      <th>2</th>\n      <td>3</td>\n      <td>Arnold</td>\n      <td>Three</td>\n      <td>55</td>\n      <td>male</td>\n    </tr>\n    <tr>\n      <th>3</th>\n      <td>4</td>\n      <td>Krish Star</td>\n      <td>Four</td>\n      <td>60</td>\n      <td>female</td>\n    </tr>\n    <tr>\n      <th>4</th>\n      <td>5</td>\n      <td>John Mike</td>\n      <td>Four</td>\n      <td>60</td>\n      <td>female</td>\n    </tr>\n    <tr>\n      <th>5</th>\n      <td>6</td>\n      <td>Alex John</td>\n      <td>Four</td>\n      <td>55</td>\n      <td>male</td>\n    </tr>\n    <tr>\n      <th>6</th>\n      <td>7</td>\n      <td>My John Rob</td>\n      <td>Fifth</td>\n      <td>78</td>\n      <td>male</td>\n    </tr>\n    <tr>\n      <th>7</th>\n      <td>8</td>\n      <td>Asruid</td>\n      <td>Five</td>\n      <td>85</td>\n      <td>male</td>\n    </tr>\n    <tr>\n      <th>8</th>\n      <td>9</td>\n      <td>Tes Qry</td>\n      <td>Six</td>\n      <td>78</td>\n      <td>male</td>\n    </tr>\n    <tr>\n      <th>9</th>\n      <td>10</td>\n      <td>Big John</td>\n      <td>Four</td>\n      <td>55</td>\n      <td>female</td>\n    </tr>\n    <tr>\n      <th>10</th>\n      <td>11</td>\n      <td>Ronald</td>\n      <td>Six</td>\n      <td>89</td>\n      <td>female</td>\n    </tr>\n    <tr>\n      <th>11</th>\n      <td>12</td>\n      <td>Recky</td>\n      <td>Six</td>\n      <td>94</td>\n      <td>female</td>\n    </tr>\n    <tr>\n      <th>12</th>\n      <td>13</td>\n      <td>Kty</td>\n      <td>Seven</td>\n      <td>88</td>\n      <td>female</td>\n    </tr>\n    <tr>\n      <th>13</th>\n      <td>14</td>\n      <td>Bigy</td>\n      <td>Seven</td>\n      <td>88</td>\n      <td>female</td>\n    </tr>\n    <tr>\n      <th>14</th>\n      <td>15</td>\n      <td>Tade Row</td>\n      <td>Four</td>\n      <td>88</td>\n      <td>male</td>\n    </tr>\n    <tr>\n      <th>15</th>\n      <td>16</td>\n      <td>Gimmy</td>\n      <td>Four</td>\n      <td>88</td>\n      <td>male</td>\n    </tr>\n    <tr>\n      <th>16</th>\n      <td>17</td>\n      <td>Tumyu</td>\n      <td>Six</td>\n      <td>54</td>\n      <td>male</td>\n    </tr>\n    <tr>\n      <th>17</th>\n      <td>18</td>\n      <td>Honny</td>\n      <td>Five</td>\n      <td>75</td>\n      <td>male</td>\n    </tr>\n    <tr>\n      <th>18</th>\n      <td>19</td>\n      <td>Tinny</td>\n      <td>Nine</td>\n      <td>18</td>\n      <td>male</td>\n    </tr>\n    <tr>\n      <th>19</th>\n      <td>20</td>\n      <td>Jackly</td>\n      <td>Nine</td>\n      <td>65</td>\n      <td>female</td>\n    </tr>\n    <tr>\n      <th>20</th>\n      <td>21</td>\n      <td>Babby John</td>\n      <td>Four</td>\n      <td>69</td>\n      <td>female</td>\n    </tr>\n    <tr>\n      <th>21</th>\n      <td>22</td>\n      <td>Reggid</td>\n      <td>Seven</td>\n      <td>55</td>\n      <td>female</td>\n    </tr>\n    <tr>\n      <th>22</th>\n      <td>23</td>\n      <td>Herod</td>\n      <td>Eight</td>\n      <td>79</td>\n      <td>male</td>\n    </tr>\n    <tr>\n      <th>23</th>\n      <td>24</td>\n      <td>Tiddy Now</td>\n      <td>Seven</td>\n      <td>78</td>\n      <td>male</td>\n    </tr>\n    <tr>\n      <th>24</th>\n      <td>25</td>\n      <td>Giff Tow</td>\n      <td>Seven</td>\n      <td>88</td>\n      <td>male</td>\n    </tr>\n    <tr>\n      <th>25</th>\n      <td>26</td>\n      <td>Crelea</td>\n      <td>Seven</td>\n      <td>79</td>\n      <td>male</td>\n    </tr>\n    <tr>\n      <th>26</th>\n      <td>27</td>\n      <td>Big Nose</td>\n      <td>Three</td>\n      <td>81</td>\n      <td>female</td>\n    </tr>\n    <tr>\n      <th>27</th>\n      <td>28</td>\n      <td>Rojj Base</td>\n      <td>Seven</td>\n      <td>86</td>\n      <td>female</td>\n    </tr>\n    <tr>\n      <th>28</th>\n      <td>29</td>\n      <td>Tess Played</td>\n      <td>Seven</td>\n      <td>55</td>\n      <td>male</td>\n    </tr>\n    <tr>\n      <th>29</th>\n      <td>30</td>\n      <td>Reppy Red</td>\n      <td>Six</td>\n      <td>79</td>\n      <td>female</td>\n    </tr>\n    <tr>\n      <th>30</th>\n      <td>31</td>\n      <td>Marry Toeey</td>\n      <td>Four</td>\n      <td>88</td>\n      <td>male</td>\n    </tr>\n    <tr>\n      <th>31</th>\n      <td>32</td>\n      <td>Binn Rott</td>\n      <td>Seven</td>\n      <td>90</td>\n      <td>female</td>\n    </tr>\n    <tr>\n      <th>32</th>\n      <td>33</td>\n      <td>Kenn Rein</td>\n      <td>Six</td>\n      <td>96</td>\n      <td>female</td>\n    </tr>\n    <tr>\n      <th>33</th>\n      <td>34</td>\n      <td>Gain Toe</td>\n      <td>Seven</td>\n      <td>69</td>\n      <td>male</td>\n    </tr>\n    <tr>\n      <th>34</th>\n      <td>35</td>\n      <td>Rows Noump</td>\n      <td>Six</td>\n      <td>88</td>\n      <td>female</td>\n    </tr>\n  </tbody>\n</table>\n</div>"
     },
     "execution_count": 4,
     "metadata": {},
     "output_type": "execute_result"
    }
   ],
   "source": [
    "data = pd.read_csv('student.csv')\n",
    "data"
   ],
   "metadata": {
    "collapsed": false,
    "ExecuteTime": {
     "end_time": "2024-04-06T08:03:34.605267Z",
     "start_time": "2024-04-06T08:03:34.597736Z"
    }
   },
   "id": "3c9f19827d000a5a",
   "execution_count": 4
  },
  {
   "cell_type": "code",
   "outputs": [
    {
     "data": {
      "text/plain": "0      cat\n1      dog\n2    horse\ndtype: object"
     },
     "execution_count": 10,
     "metadata": {},
     "output_type": "execute_result"
    }
   ],
   "source": [
    "# create a pandas Series object\n",
    "animals = ['cat', 'dog', 'horse']\n",
    "p_animals = pd.Series(animals)\n",
    "p_animals"
   ],
   "metadata": {
    "collapsed": false,
    "ExecuteTime": {
     "end_time": "2024-04-06T08:35:36.957479Z",
     "start_time": "2024-04-06T08:35:36.953249Z"
    }
   },
   "id": "f0840757c969a848",
   "execution_count": 10
  },
  {
   "cell_type": "code",
   "outputs": [
    {
     "data": {
      "text/plain": "pandas.core.series.Series"
     },
     "execution_count": 11,
     "metadata": {},
     "output_type": "execute_result"
    }
   ],
   "source": [
    "type(p_animals)"
   ],
   "metadata": {
    "collapsed": false,
    "ExecuteTime": {
     "end_time": "2024-04-06T08:43:36.109484Z",
     "start_time": "2024-04-06T08:43:36.106511Z"
    }
   },
   "id": "285bcd3339a61fb8",
   "execution_count": 11
  },
  {
   "cell_type": "code",
   "outputs": [
    {
     "data": {
      "text/plain": "'horse'"
     },
     "execution_count": 12,
     "metadata": {},
     "output_type": "execute_result"
    }
   ],
   "source": [
    "p_animals[2]"
   ],
   "metadata": {
    "collapsed": false,
    "ExecuteTime": {
     "end_time": "2024-04-06T08:43:57.132149Z",
     "start_time": "2024-04-06T08:43:57.129478Z"
    }
   },
   "id": "555d0e2c20515a64",
   "execution_count": 12
  },
  {
   "cell_type": "code",
   "outputs": [
    {
     "data": {
      "text/plain": "0     cat\n1     dog\n2    None\ndtype: object"
     },
     "execution_count": 14,
     "metadata": {},
     "output_type": "execute_result"
    }
   ],
   "source": [
    "animals = ['cat', 'dog', None]\n",
    "p_animals = pd.Series(animals)\n",
    "p_animals"
   ],
   "metadata": {
    "collapsed": false,
    "ExecuteTime": {
     "end_time": "2024-04-06T08:44:40.829123Z",
     "start_time": "2024-04-06T08:44:40.825539Z"
    }
   },
   "id": "afd71640fb9d487d",
   "execution_count": 14
  },
  {
   "cell_type": "code",
   "outputs": [
    {
     "data": {
      "text/plain": "0     2.0\n1    20.0\n2     1.5\ndtype: float64"
     },
     "execution_count": 16,
     "metadata": {},
     "output_type": "execute_result"
    }
   ],
   "source": [
    "numbers = [2, 20, 1.5]\n",
    "p_numbers = pd.Series(numbers)\n",
    "p_numbers"
   ],
   "metadata": {
    "collapsed": false,
    "ExecuteTime": {
     "end_time": "2024-04-06T08:45:49.852569Z",
     "start_time": "2024-04-06T08:45:49.848641Z"
    }
   },
   "id": "e2b57d08493c1927",
   "execution_count": 16
  },
  {
   "cell_type": "code",
   "outputs": [
    {
     "data": {
      "text/plain": "0     2.0\n1    20.0\n2     NaN\ndtype: float64"
     },
     "execution_count": 17,
     "metadata": {},
     "output_type": "execute_result"
    }
   ],
   "source": [
    "numbers = [2, 20, None]\n",
    "p_numbers = pd.Series(numbers)\n",
    "p_numbers"
   ],
   "metadata": {
    "collapsed": false,
    "ExecuteTime": {
     "end_time": "2024-04-06T08:47:31.223710Z",
     "start_time": "2024-04-06T08:47:31.219500Z"
    }
   },
   "id": "8f75066e5e7c4306",
   "execution_count": 17
  },
  {
   "cell_type": "code",
   "source": [
    "animals = {\n",
    "    'n1': 'Tiger',\n",
    "    'n2': 'Bear',\n",
    "    'n3': None\n",
    "}\n",
    "p_animals = pd.Series(animals)\n",
    "p_animals"
   ],
   "metadata": {
    "collapsed": false,
    "ExecuteTime": {
     "end_time": "2024-04-06T16:38:03.812412Z",
     "start_time": "2024-04-06T16:38:03.801038Z"
    }
   },
   "id": "d4ebe67d9d84a28a",
   "outputs": [
    {
     "data": {
      "text/plain": [
       "n1    Tiger\n",
       "n2     Bear\n",
       "n3     None\n",
       "dtype: object"
      ]
     },
     "execution_count": 3,
     "metadata": {},
     "output_type": "execute_result"
    }
   ],
   "execution_count": 3
  },
  {
   "cell_type": "code",
   "outputs": [
    {
     "name": "stdout",
     "output_type": "stream",
     "text": [
      "Tiger\n"
     ]
    }
   ],
   "source": [
    "# access the value at a specific location in the pandas Series\n",
    "print(p_animals.iloc[1])"
   ],
   "metadata": {
    "collapsed": false,
    "ExecuteTime": {
     "end_time": "2024-04-06T08:55:31.829996Z",
     "start_time": "2024-04-06T08:55:31.827776Z"
    }
   },
   "id": "2d2fe0290bd1952b",
   "execution_count": 30
  },
  {
   "cell_type": "code",
   "outputs": [
    {
     "data": {
      "text/plain": "Index(['n1', 'n2', 'n3'], dtype='object')"
     },
     "execution_count": 33,
     "metadata": {},
     "output_type": "execute_result"
    }
   ],
   "source": [
    "# return index inside p_animals\n",
    "p_animals.index"
   ],
   "metadata": {
    "collapsed": false,
    "ExecuteTime": {
     "end_time": "2024-04-06T09:43:13.852836Z",
     "start_time": "2024-04-06T09:43:13.849607Z"
    }
   },
   "id": "4ca192db5ba80666",
   "execution_count": 33
  },
  {
   "cell_type": "code",
   "outputs": [
    {
     "data": {
      "text/plain": "array(['Tiger', 'Bear', None], dtype=object)"
     },
     "execution_count": 34,
     "metadata": {},
     "output_type": "execute_result"
    }
   ],
   "source": [
    "# return values inside p_animals\n",
    "p_animals.values"
   ],
   "metadata": {
    "collapsed": false,
    "ExecuteTime": {
     "end_time": "2024-04-06T09:43:53.197631Z",
     "start_time": "2024-04-06T09:43:53.194414Z"
    }
   },
   "id": "8aee685ead9c778f",
   "execution_count": 34
  },
  {
   "cell_type": "code",
   "outputs": [
    {
     "data": {
      "text/plain": "n1    Tiger\nn2     Bear\nn3    Mouse\ndtype: object"
     },
     "execution_count": 35,
     "metadata": {},
     "output_type": "execute_result"
    }
   ],
   "source": [
    "p_animals = pd.Series(['Tiger', 'Bear', 'Mouse'], index=['n1', 'n2', 'n3'])\n",
    "p_animals"
   ],
   "metadata": {
    "collapsed": false,
    "ExecuteTime": {
     "end_time": "2024-04-06T10:01:13.523956Z",
     "start_time": "2024-04-06T10:01:13.520499Z"
    }
   },
   "id": "14aabd166ba94bc9",
   "execution_count": 35
  },
  {
   "cell_type": "code",
   "outputs": [
    {
     "data": {
      "text/plain": "'Tiger'"
     },
     "execution_count": 36,
     "metadata": {},
     "output_type": "execute_result"
    }
   ],
   "source": [
    "p_animals['n1']"
   ],
   "metadata": {
    "collapsed": false,
    "ExecuteTime": {
     "end_time": "2024-04-06T10:08:43.740342Z",
     "start_time": "2024-04-06T10:08:43.737561Z"
    }
   },
   "id": "406072a84987c073",
   "execution_count": 36
  },
  {
   "cell_type": "code",
   "outputs": [
    {
     "data": {
      "text/plain": "'Tiger'"
     },
     "execution_count": 37,
     "metadata": {},
     "output_type": "execute_result"
    }
   ],
   "source": [
    "p_animals.loc['n1']"
   ],
   "metadata": {
    "collapsed": false,
    "ExecuteTime": {
     "end_time": "2024-04-06T10:09:19.095131Z",
     "start_time": "2024-04-06T10:09:19.092426Z"
    }
   },
   "id": "95c4e492320509d7",
   "execution_count": 37
  },
  {
   "cell_type": "code",
   "source": [
    "for item in p_animals:\n",
    "    print(f'salam {item}')"
   ],
   "metadata": {
    "collapsed": false,
    "ExecuteTime": {
     "end_time": "2024-04-06T16:38:06.869684Z",
     "start_time": "2024-04-06T16:38:06.867295Z"
    }
   },
   "id": "30da92ae3f181a2",
   "outputs": [
    {
     "name": "stdout",
     "output_type": "stream",
     "text": [
      "salam Tiger\n",
      "salam Bear\n",
      "salam None\n"
     ]
    }
   ],
   "execution_count": 4
  },
  {
   "metadata": {
    "ExecuteTime": {
     "end_time": "2024-04-07T08:44:02.365272Z",
     "start_time": "2024-04-07T08:44:02.362654Z"
    }
   },
   "cell_type": "code",
   "source": "import numpy as np",
   "id": "5f8726a7fcdc9853",
   "outputs": [],
   "execution_count": 2
  },
  {
   "metadata": {
    "ExecuteTime": {
     "end_time": "2024-04-06T16:54:26.483617Z",
     "start_time": "2024-04-06T16:54:26.479378Z"
    }
   },
   "cell_type": "code",
   "source": [
    "numbers = [2, 20, 1.5]\n",
    "p_numbers = pd.Series(numbers)\n",
    "np.sum(p_numbers)"
   ],
   "id": "cf41bb5876c5b04b",
   "outputs": [
    {
     "data": {
      "text/plain": [
       "23.5"
      ]
     },
     "execution_count": 6,
     "metadata": {},
     "output_type": "execute_result"
    }
   ],
   "execution_count": 6
  },
  {
   "metadata": {
    "ExecuteTime": {
     "end_time": "2024-04-06T17:58:01.135414Z",
     "start_time": "2024-04-06T17:58:01.131056Z"
    }
   },
   "cell_type": "code",
   "source": [
    "items = [1, 2.5, 'Mouse']\n",
    "p_items = pd.Series(items)\n",
    "p_items"
   ],
   "id": "258b5ffc9e5f652e",
   "outputs": [
    {
     "data": {
      "text/plain": [
       "0        1\n",
       "1      2.5\n",
       "2    Mouse\n",
       "dtype: object"
      ]
     },
     "execution_count": 14,
     "metadata": {},
     "output_type": "execute_result"
    }
   ],
   "execution_count": 14
  },
  {
   "metadata": {
    "ExecuteTime": {
     "end_time": "2024-04-06T17:58:45.783405Z",
     "start_time": "2024-04-06T17:58:45.781001Z"
    }
   },
   "cell_type": "code",
   "source": [
    "for index, item in p_numbers.items():\n",
    "    print(f'index {index}, item {item}')"
   ],
   "id": "accb0e0ac94b7ffb",
   "outputs": [
    {
     "name": "stdout",
     "output_type": "stream",
     "text": [
      "index 0, item 2.0\n",
      "index 1, item 20.0\n",
      "index 2, item 1.5\n"
     ]
    }
   ],
   "execution_count": 17
  },
  {
   "metadata": {
    "ExecuteTime": {
     "end_time": "2024-04-07T08:59:45.278363Z",
     "start_time": "2024-04-07T08:59:45.270459Z"
    }
   },
   "cell_type": "code",
   "source": [
    "animals = {\n",
    "    'n1': 'Tiger1',\n",
    "    'n2': 'Bear1',\n",
    "    'n3': 'Mouse1'\n",
    "}\n",
    "p_animals = pd.Series(animals)\n",
    "animals2 = {\n",
    "    'n1': 'Tiger2',\n",
    "    'n2': 'Bear2',\n",
    "    'n3': 'Mouse2'\n",
    "}\n",
    "p_animals2 = pd.Series(animals2)\n",
    "animals3 = {\n",
    "    'n1': 'Tiger3',\n",
    "    'n2': 'Bear3',\n",
    "    'n3': 'Mouse3'\n",
    "}\n",
    "p_animals3 = pd.Series(animals3)\n",
    "\n",
    "df = pd.DataFrame([p_animals, p_animals2, p_animals3], index=['r1', 'r2', 'r3'])\n",
    "df"
   ],
   "id": "9aca3b4d5449dbfb",
   "outputs": [
    {
     "data": {
      "text/plain": [
       "        n1     n2      n3\n",
       "r1  Tiger1  Bear1  Mouse1\n",
       "r2  Tiger2  Bear2  Mouse2\n",
       "r3  Tiger3  Bear3  Mouse3"
      ],
      "text/html": [
       "<div>\n",
       "<style scoped>\n",
       "    .dataframe tbody tr th:only-of-type {\n",
       "        vertical-align: middle;\n",
       "    }\n",
       "\n",
       "    .dataframe tbody tr th {\n",
       "        vertical-align: top;\n",
       "    }\n",
       "\n",
       "    .dataframe thead th {\n",
       "        text-align: right;\n",
       "    }\n",
       "</style>\n",
       "<table border=\"1\" class=\"dataframe\">\n",
       "  <thead>\n",
       "    <tr style=\"text-align: right;\">\n",
       "      <th></th>\n",
       "      <th>n1</th>\n",
       "      <th>n2</th>\n",
       "      <th>n3</th>\n",
       "    </tr>\n",
       "  </thead>\n",
       "  <tbody>\n",
       "    <tr>\n",
       "      <th>r1</th>\n",
       "      <td>Tiger1</td>\n",
       "      <td>Bear1</td>\n",
       "      <td>Mouse1</td>\n",
       "    </tr>\n",
       "    <tr>\n",
       "      <th>r2</th>\n",
       "      <td>Tiger2</td>\n",
       "      <td>Bear2</td>\n",
       "      <td>Mouse2</td>\n",
       "    </tr>\n",
       "    <tr>\n",
       "      <th>r3</th>\n",
       "      <td>Tiger3</td>\n",
       "      <td>Bear3</td>\n",
       "      <td>Mouse3</td>\n",
       "    </tr>\n",
       "  </tbody>\n",
       "</table>\n",
       "</div>"
      ]
     },
     "execution_count": 5,
     "metadata": {},
     "output_type": "execute_result"
    }
   ],
   "execution_count": 5
  },
  {
   "metadata": {
    "ExecuteTime": {
     "end_time": "2024-04-07T09:24:36.737136Z",
     "start_time": "2024-04-07T09:24:36.733595Z"
    }
   },
   "cell_type": "code",
   "source": "df.loc['r2']",
   "id": "1a65a297c3ed18a4",
   "outputs": [
    {
     "data": {
      "text/plain": [
       "n1    Tiger2\n",
       "n2     Bear2\n",
       "n3    Mouse2\n",
       "Name: r2, dtype: object"
      ]
     },
     "execution_count": 15,
     "metadata": {},
     "output_type": "execute_result"
    }
   ],
   "execution_count": 15
  },
  {
   "metadata": {
    "ExecuteTime": {
     "end_time": "2024-04-07T09:25:18.374715Z",
     "start_time": "2024-04-07T09:25:18.371354Z"
    }
   },
   "cell_type": "code",
   "source": "df.loc['r2'].loc['n1']",
   "id": "cf2aa8b5a4f2d63c",
   "outputs": [
    {
     "data": {
      "text/plain": [
       "'Tiger2'"
      ]
     },
     "execution_count": 17,
     "metadata": {},
     "output_type": "execute_result"
    }
   ],
   "execution_count": 17
  },
  {
   "metadata": {
    "ExecuteTime": {
     "end_time": "2024-04-07T09:25:51.966114Z",
     "start_time": "2024-04-07T09:25:51.963035Z"
    }
   },
   "cell_type": "code",
   "source": "df.loc['r2', 'n1']",
   "id": "7b314c40931da552",
   "outputs": [
    {
     "data": {
      "text/plain": [
       "'Tiger2'"
      ]
     },
     "execution_count": 19,
     "metadata": {},
     "output_type": "execute_result"
    }
   ],
   "execution_count": 19
  },
  {
   "metadata": {
    "ExecuteTime": {
     "end_time": "2024-04-07T09:26:27.828971Z",
     "start_time": "2024-04-07T09:26:27.824398Z"
    }
   },
   "cell_type": "code",
   "source": "df.T",
   "id": "cbbe38ed2a3efab9",
   "outputs": [
    {
     "data": {
      "text/plain": [
       "        r1      r2      r3\n",
       "n1  Tiger1  Tiger2  Tiger3\n",
       "n2   Bear1   Bear2   Bear3\n",
       "n3  Mouse1  Mouse2  Mouse3"
      ],
      "text/html": [
       "<div>\n",
       "<style scoped>\n",
       "    .dataframe tbody tr th:only-of-type {\n",
       "        vertical-align: middle;\n",
       "    }\n",
       "\n",
       "    .dataframe tbody tr th {\n",
       "        vertical-align: top;\n",
       "    }\n",
       "\n",
       "    .dataframe thead th {\n",
       "        text-align: right;\n",
       "    }\n",
       "</style>\n",
       "<table border=\"1\" class=\"dataframe\">\n",
       "  <thead>\n",
       "    <tr style=\"text-align: right;\">\n",
       "      <th></th>\n",
       "      <th>r1</th>\n",
       "      <th>r2</th>\n",
       "      <th>r3</th>\n",
       "    </tr>\n",
       "  </thead>\n",
       "  <tbody>\n",
       "    <tr>\n",
       "      <th>n1</th>\n",
       "      <td>Tiger1</td>\n",
       "      <td>Tiger2</td>\n",
       "      <td>Tiger3</td>\n",
       "    </tr>\n",
       "    <tr>\n",
       "      <th>n2</th>\n",
       "      <td>Bear1</td>\n",
       "      <td>Bear2</td>\n",
       "      <td>Bear3</td>\n",
       "    </tr>\n",
       "    <tr>\n",
       "      <th>n3</th>\n",
       "      <td>Mouse1</td>\n",
       "      <td>Mouse2</td>\n",
       "      <td>Mouse3</td>\n",
       "    </tr>\n",
       "  </tbody>\n",
       "</table>\n",
       "</div>"
      ]
     },
     "execution_count": 20,
     "metadata": {},
     "output_type": "execute_result"
    }
   ],
   "execution_count": 20
  },
  {
   "metadata": {
    "ExecuteTime": {
     "end_time": "2024-04-07T09:30:14.247236Z",
     "start_time": "2024-04-07T09:30:14.241800Z"
    }
   },
   "cell_type": "code",
   "source": "df[['n2', 'n3']]",
   "id": "26eb27b020a816cc",
   "outputs": [
    {
     "data": {
      "text/plain": [
       "       n2      n3\n",
       "r1  Bear1  Mouse1\n",
       "r2  Bear2  Mouse2\n",
       "r3  Bear3  Mouse3"
      ],
      "text/html": [
       "<div>\n",
       "<style scoped>\n",
       "    .dataframe tbody tr th:only-of-type {\n",
       "        vertical-align: middle;\n",
       "    }\n",
       "\n",
       "    .dataframe tbody tr th {\n",
       "        vertical-align: top;\n",
       "    }\n",
       "\n",
       "    .dataframe thead th {\n",
       "        text-align: right;\n",
       "    }\n",
       "</style>\n",
       "<table border=\"1\" class=\"dataframe\">\n",
       "  <thead>\n",
       "    <tr style=\"text-align: right;\">\n",
       "      <th></th>\n",
       "      <th>n2</th>\n",
       "      <th>n3</th>\n",
       "    </tr>\n",
       "  </thead>\n",
       "  <tbody>\n",
       "    <tr>\n",
       "      <th>r1</th>\n",
       "      <td>Bear1</td>\n",
       "      <td>Mouse1</td>\n",
       "    </tr>\n",
       "    <tr>\n",
       "      <th>r2</th>\n",
       "      <td>Bear2</td>\n",
       "      <td>Mouse2</td>\n",
       "    </tr>\n",
       "    <tr>\n",
       "      <th>r3</th>\n",
       "      <td>Bear3</td>\n",
       "      <td>Mouse3</td>\n",
       "    </tr>\n",
       "  </tbody>\n",
       "</table>\n",
       "</div>"
      ]
     },
     "execution_count": 24,
     "metadata": {},
     "output_type": "execute_result"
    }
   ],
   "execution_count": 24
  },
  {
   "metadata": {
    "ExecuteTime": {
     "end_time": "2024-04-07T09:30:58.046650Z",
     "start_time": "2024-04-07T09:30:58.042100Z"
    }
   },
   "cell_type": "code",
   "source": "df[['n2']]",
   "id": "4725bdde2df61c6e",
   "outputs": [
    {
     "data": {
      "text/plain": [
       "       n2\n",
       "r1  Bear1\n",
       "r2  Bear2\n",
       "r3  Bear3"
      ],
      "text/html": [
       "<div>\n",
       "<style scoped>\n",
       "    .dataframe tbody tr th:only-of-type {\n",
       "        vertical-align: middle;\n",
       "    }\n",
       "\n",
       "    .dataframe tbody tr th {\n",
       "        vertical-align: top;\n",
       "    }\n",
       "\n",
       "    .dataframe thead th {\n",
       "        text-align: right;\n",
       "    }\n",
       "</style>\n",
       "<table border=\"1\" class=\"dataframe\">\n",
       "  <thead>\n",
       "    <tr style=\"text-align: right;\">\n",
       "      <th></th>\n",
       "      <th>n2</th>\n",
       "    </tr>\n",
       "  </thead>\n",
       "  <tbody>\n",
       "    <tr>\n",
       "      <th>r1</th>\n",
       "      <td>Bear1</td>\n",
       "    </tr>\n",
       "    <tr>\n",
       "      <th>r2</th>\n",
       "      <td>Bear2</td>\n",
       "    </tr>\n",
       "    <tr>\n",
       "      <th>r3</th>\n",
       "      <td>Bear3</td>\n",
       "    </tr>\n",
       "  </tbody>\n",
       "</table>\n",
       "</div>"
      ]
     },
     "execution_count": 27,
     "metadata": {},
     "output_type": "execute_result"
    }
   ],
   "execution_count": 27
  },
  {
   "metadata": {
    "ExecuteTime": {
     "end_time": "2024-04-07T09:34:41.206800Z",
     "start_time": "2024-04-07T09:34:41.202477Z"
    }
   },
   "cell_type": "code",
   "source": "df.loc[:, 'n2':'n3']",
   "id": "50b22f180fc7514b",
   "outputs": [
    {
     "data": {
      "text/plain": [
       "       n2      n3\n",
       "r1  Bear1  Mouse1\n",
       "r2  Bear2  Mouse2\n",
       "r3  Bear3  Mouse3"
      ],
      "text/html": [
       "<div>\n",
       "<style scoped>\n",
       "    .dataframe tbody tr th:only-of-type {\n",
       "        vertical-align: middle;\n",
       "    }\n",
       "\n",
       "    .dataframe tbody tr th {\n",
       "        vertical-align: top;\n",
       "    }\n",
       "\n",
       "    .dataframe thead th {\n",
       "        text-align: right;\n",
       "    }\n",
       "</style>\n",
       "<table border=\"1\" class=\"dataframe\">\n",
       "  <thead>\n",
       "    <tr style=\"text-align: right;\">\n",
       "      <th></th>\n",
       "      <th>n2</th>\n",
       "      <th>n3</th>\n",
       "    </tr>\n",
       "  </thead>\n",
       "  <tbody>\n",
       "    <tr>\n",
       "      <th>r1</th>\n",
       "      <td>Bear1</td>\n",
       "      <td>Mouse1</td>\n",
       "    </tr>\n",
       "    <tr>\n",
       "      <th>r2</th>\n",
       "      <td>Bear2</td>\n",
       "      <td>Mouse2</td>\n",
       "    </tr>\n",
       "    <tr>\n",
       "      <th>r3</th>\n",
       "      <td>Bear3</td>\n",
       "      <td>Mouse3</td>\n",
       "    </tr>\n",
       "  </tbody>\n",
       "</table>\n",
       "</div>"
      ]
     },
     "execution_count": 28,
     "metadata": {},
     "output_type": "execute_result"
    }
   ],
   "execution_count": 28
  },
  {
   "metadata": {
    "ExecuteTime": {
     "end_time": "2024-04-07T09:36:58.481377Z",
     "start_time": "2024-04-07T09:36:58.478699Z"
    }
   },
   "cell_type": "code",
   "source": [
    "# Remove the row labeled 'r1' from the DataFrame df in place\n",
    "df.drop('r1', inplace=True)"
   ],
   "id": "a830af69c20f0a54",
   "outputs": [],
   "execution_count": 31
  },
  {
   "metadata": {
    "ExecuteTime": {
     "end_time": "2024-04-07T09:37:00.616547Z",
     "start_time": "2024-04-07T09:37:00.611834Z"
    }
   },
   "cell_type": "code",
   "source": "df",
   "id": "224bcbdbea309485",
   "outputs": [
    {
     "data": {
      "text/plain": [
       "        n1     n2      n3\n",
       "r2  Tiger2  Bear2  Mouse2\n",
       "r3  Tiger3  Bear3  Mouse3"
      ],
      "text/html": [
       "<div>\n",
       "<style scoped>\n",
       "    .dataframe tbody tr th:only-of-type {\n",
       "        vertical-align: middle;\n",
       "    }\n",
       "\n",
       "    .dataframe tbody tr th {\n",
       "        vertical-align: top;\n",
       "    }\n",
       "\n",
       "    .dataframe thead th {\n",
       "        text-align: right;\n",
       "    }\n",
       "</style>\n",
       "<table border=\"1\" class=\"dataframe\">\n",
       "  <thead>\n",
       "    <tr style=\"text-align: right;\">\n",
       "      <th></th>\n",
       "      <th>n1</th>\n",
       "      <th>n2</th>\n",
       "      <th>n3</th>\n",
       "    </tr>\n",
       "  </thead>\n",
       "  <tbody>\n",
       "    <tr>\n",
       "      <th>r2</th>\n",
       "      <td>Tiger2</td>\n",
       "      <td>Bear2</td>\n",
       "      <td>Mouse2</td>\n",
       "    </tr>\n",
       "    <tr>\n",
       "      <th>r3</th>\n",
       "      <td>Tiger3</td>\n",
       "      <td>Bear3</td>\n",
       "      <td>Mouse3</td>\n",
       "    </tr>\n",
       "  </tbody>\n",
       "</table>\n",
       "</div>"
      ]
     },
     "execution_count": 32,
     "metadata": {},
     "output_type": "execute_result"
    }
   ],
   "execution_count": 32
  },
  {
   "metadata": {
    "ExecuteTime": {
     "end_time": "2024-04-07T09:40:08.196615Z",
     "start_time": "2024-04-07T09:40:08.194445Z"
    }
   },
   "cell_type": "code",
   "source": "df2 = df",
   "id": "724a8e3b81ac549f",
   "outputs": [],
   "execution_count": 33
  },
  {
   "metadata": {
    "ExecuteTime": {
     "end_time": "2024-04-07T09:40:19.798141Z",
     "start_time": "2024-04-07T09:40:19.795421Z"
    }
   },
   "cell_type": "code",
   "source": "df2.drop('r2', inplace=True)",
   "id": "27e6e5f5b139941e",
   "outputs": [],
   "execution_count": 34
  },
  {
   "metadata": {
    "ExecuteTime": {
     "end_time": "2024-04-07T09:40:23.988633Z",
     "start_time": "2024-04-07T09:40:23.984356Z"
    }
   },
   "cell_type": "code",
   "source": "df2",
   "id": "87b7533d6b35fb0b",
   "outputs": [
    {
     "data": {
      "text/plain": [
       "        n1     n2      n3\n",
       "r3  Tiger3  Bear3  Mouse3"
      ],
      "text/html": [
       "<div>\n",
       "<style scoped>\n",
       "    .dataframe tbody tr th:only-of-type {\n",
       "        vertical-align: middle;\n",
       "    }\n",
       "\n",
       "    .dataframe tbody tr th {\n",
       "        vertical-align: top;\n",
       "    }\n",
       "\n",
       "    .dataframe thead th {\n",
       "        text-align: right;\n",
       "    }\n",
       "</style>\n",
       "<table border=\"1\" class=\"dataframe\">\n",
       "  <thead>\n",
       "    <tr style=\"text-align: right;\">\n",
       "      <th></th>\n",
       "      <th>n1</th>\n",
       "      <th>n2</th>\n",
       "      <th>n3</th>\n",
       "    </tr>\n",
       "  </thead>\n",
       "  <tbody>\n",
       "    <tr>\n",
       "      <th>r3</th>\n",
       "      <td>Tiger3</td>\n",
       "      <td>Bear3</td>\n",
       "      <td>Mouse3</td>\n",
       "    </tr>\n",
       "  </tbody>\n",
       "</table>\n",
       "</div>"
      ]
     },
     "execution_count": 35,
     "metadata": {},
     "output_type": "execute_result"
    }
   ],
   "execution_count": 35
  },
  {
   "metadata": {
    "ExecuteTime": {
     "end_time": "2024-04-07T09:40:28.013522Z",
     "start_time": "2024-04-07T09:40:28.009217Z"
    }
   },
   "cell_type": "code",
   "source": "df",
   "id": "57b1e77ae3c43f33",
   "outputs": [
    {
     "data": {
      "text/plain": [
       "        n1     n2      n3\n",
       "r3  Tiger3  Bear3  Mouse3"
      ],
      "text/html": [
       "<div>\n",
       "<style scoped>\n",
       "    .dataframe tbody tr th:only-of-type {\n",
       "        vertical-align: middle;\n",
       "    }\n",
       "\n",
       "    .dataframe tbody tr th {\n",
       "        vertical-align: top;\n",
       "    }\n",
       "\n",
       "    .dataframe thead th {\n",
       "        text-align: right;\n",
       "    }\n",
       "</style>\n",
       "<table border=\"1\" class=\"dataframe\">\n",
       "  <thead>\n",
       "    <tr style=\"text-align: right;\">\n",
       "      <th></th>\n",
       "      <th>n1</th>\n",
       "      <th>n2</th>\n",
       "      <th>n3</th>\n",
       "    </tr>\n",
       "  </thead>\n",
       "  <tbody>\n",
       "    <tr>\n",
       "      <th>r3</th>\n",
       "      <td>Tiger3</td>\n",
       "      <td>Bear3</td>\n",
       "      <td>Mouse3</td>\n",
       "    </tr>\n",
       "  </tbody>\n",
       "</table>\n",
       "</div>"
      ]
     },
     "execution_count": 36,
     "metadata": {},
     "output_type": "execute_result"
    }
   ],
   "execution_count": 36
  },
  {
   "metadata": {
    "ExecuteTime": {
     "end_time": "2024-04-07T09:41:57.832080Z",
     "start_time": "2024-04-07T09:41:57.826312Z"
    }
   },
   "cell_type": "code",
   "source": [
    "animals = {\n",
    "    'n1': 'Tiger1',\n",
    "    'n2': 'Bear1',\n",
    "    'n3': 'Mouse1'\n",
    "}\n",
    "p_animals = pd.Series(animals)\n",
    "animals2 = {\n",
    "    'n1': 'Tiger2',\n",
    "    'n2': 'Bear2',\n",
    "    'n3': 'Mouse2'\n",
    "}\n",
    "p_animals2 = pd.Series(animals2)\n",
    "animals3 = {\n",
    "    'n1': 'Tiger3',\n",
    "    'n2': 'Bear3',\n",
    "    'n3': 'Mouse3'\n",
    "}\n",
    "p_animals3 = pd.Series(animals3)\n",
    "\n",
    "df = pd.DataFrame([p_animals, p_animals2, p_animals3], index=['r1', 'r2', 'r3'])\n",
    "df"
   ],
   "id": "987abb6e1c9698b5",
   "outputs": [
    {
     "data": {
      "text/plain": [
       "        n1     n2      n3\n",
       "r1  Tiger1  Bear1  Mouse1\n",
       "r2  Tiger2  Bear2  Mouse2\n",
       "r3  Tiger3  Bear3  Mouse3"
      ],
      "text/html": [
       "<div>\n",
       "<style scoped>\n",
       "    .dataframe tbody tr th:only-of-type {\n",
       "        vertical-align: middle;\n",
       "    }\n",
       "\n",
       "    .dataframe tbody tr th {\n",
       "        vertical-align: top;\n",
       "    }\n",
       "\n",
       "    .dataframe thead th {\n",
       "        text-align: right;\n",
       "    }\n",
       "</style>\n",
       "<table border=\"1\" class=\"dataframe\">\n",
       "  <thead>\n",
       "    <tr style=\"text-align: right;\">\n",
       "      <th></th>\n",
       "      <th>n1</th>\n",
       "      <th>n2</th>\n",
       "      <th>n3</th>\n",
       "    </tr>\n",
       "  </thead>\n",
       "  <tbody>\n",
       "    <tr>\n",
       "      <th>r1</th>\n",
       "      <td>Tiger1</td>\n",
       "      <td>Bear1</td>\n",
       "      <td>Mouse1</td>\n",
       "    </tr>\n",
       "    <tr>\n",
       "      <th>r2</th>\n",
       "      <td>Tiger2</td>\n",
       "      <td>Bear2</td>\n",
       "      <td>Mouse2</td>\n",
       "    </tr>\n",
       "    <tr>\n",
       "      <th>r3</th>\n",
       "      <td>Tiger3</td>\n",
       "      <td>Bear3</td>\n",
       "      <td>Mouse3</td>\n",
       "    </tr>\n",
       "  </tbody>\n",
       "</table>\n",
       "</div>"
      ]
     },
     "execution_count": 38,
     "metadata": {},
     "output_type": "execute_result"
    }
   ],
   "execution_count": 38
  },
  {
   "metadata": {
    "ExecuteTime": {
     "end_time": "2024-04-07T09:43:00.496247Z",
     "start_time": "2024-04-07T09:43:00.491672Z"
    }
   },
   "cell_type": "code",
   "source": [
    "df3 = df[['n1', 'n2']]\n",
    "df3"
   ],
   "id": "345eaa17c08e6672",
   "outputs": [
    {
     "data": {
      "text/plain": [
       "        n1     n2\n",
       "r1  Tiger1  Bear1\n",
       "r2  Tiger2  Bear2\n",
       "r3  Tiger3  Bear3"
      ],
      "text/html": [
       "<div>\n",
       "<style scoped>\n",
       "    .dataframe tbody tr th:only-of-type {\n",
       "        vertical-align: middle;\n",
       "    }\n",
       "\n",
       "    .dataframe tbody tr th {\n",
       "        vertical-align: top;\n",
       "    }\n",
       "\n",
       "    .dataframe thead th {\n",
       "        text-align: right;\n",
       "    }\n",
       "</style>\n",
       "<table border=\"1\" class=\"dataframe\">\n",
       "  <thead>\n",
       "    <tr style=\"text-align: right;\">\n",
       "      <th></th>\n",
       "      <th>n1</th>\n",
       "      <th>n2</th>\n",
       "    </tr>\n",
       "  </thead>\n",
       "  <tbody>\n",
       "    <tr>\n",
       "      <th>r1</th>\n",
       "      <td>Tiger1</td>\n",
       "      <td>Bear1</td>\n",
       "    </tr>\n",
       "    <tr>\n",
       "      <th>r2</th>\n",
       "      <td>Tiger2</td>\n",
       "      <td>Bear2</td>\n",
       "    </tr>\n",
       "    <tr>\n",
       "      <th>r3</th>\n",
       "      <td>Tiger3</td>\n",
       "      <td>Bear3</td>\n",
       "    </tr>\n",
       "  </tbody>\n",
       "</table>\n",
       "</div>"
      ]
     },
     "execution_count": 39,
     "metadata": {},
     "output_type": "execute_result"
    }
   ],
   "execution_count": 39
  },
  {
   "metadata": {
    "ExecuteTime": {
     "end_time": "2024-04-07T09:43:29.751694Z",
     "start_time": "2024-04-07T09:43:29.749101Z"
    }
   },
   "cell_type": "code",
   "source": "df3.drop('r1', inplace=True)",
   "id": "f84a4a7c62542fb0",
   "outputs": [
    {
     "name": "stderr",
     "output_type": "stream",
     "text": [
      "/tmp/ipykernel_5661/3794283810.py:1: SettingWithCopyWarning: \n",
      "A value is trying to be set on a copy of a slice from a DataFrame\n",
      "\n",
      "See the caveats in the documentation: https://pandas.pydata.org/pandas-docs/stable/user_guide/indexing.html#returning-a-view-versus-a-copy\n",
      "  df3.drop('r1', inplace=True)\n"
     ]
    }
   ],
   "execution_count": 40
  },
  {
   "metadata": {
    "ExecuteTime": {
     "end_time": "2024-04-07T09:43:49.590710Z",
     "start_time": "2024-04-07T09:43:49.586821Z"
    }
   },
   "cell_type": "code",
   "source": "df3",
   "id": "e735f40cf9034d03",
   "outputs": [
    {
     "data": {
      "text/plain": [
       "        n1     n2\n",
       "r2  Tiger2  Bear2\n",
       "r3  Tiger3  Bear3"
      ],
      "text/html": [
       "<div>\n",
       "<style scoped>\n",
       "    .dataframe tbody tr th:only-of-type {\n",
       "        vertical-align: middle;\n",
       "    }\n",
       "\n",
       "    .dataframe tbody tr th {\n",
       "        vertical-align: top;\n",
       "    }\n",
       "\n",
       "    .dataframe thead th {\n",
       "        text-align: right;\n",
       "    }\n",
       "</style>\n",
       "<table border=\"1\" class=\"dataframe\">\n",
       "  <thead>\n",
       "    <tr style=\"text-align: right;\">\n",
       "      <th></th>\n",
       "      <th>n1</th>\n",
       "      <th>n2</th>\n",
       "    </tr>\n",
       "  </thead>\n",
       "  <tbody>\n",
       "    <tr>\n",
       "      <th>r2</th>\n",
       "      <td>Tiger2</td>\n",
       "      <td>Bear2</td>\n",
       "    </tr>\n",
       "    <tr>\n",
       "      <th>r3</th>\n",
       "      <td>Tiger3</td>\n",
       "      <td>Bear3</td>\n",
       "    </tr>\n",
       "  </tbody>\n",
       "</table>\n",
       "</div>"
      ]
     },
     "execution_count": 41,
     "metadata": {},
     "output_type": "execute_result"
    }
   ],
   "execution_count": 41
  },
  {
   "metadata": {
    "ExecuteTime": {
     "end_time": "2024-04-07T09:44:40.579096Z",
     "start_time": "2024-04-07T09:44:40.574993Z"
    }
   },
   "cell_type": "code",
   "source": "df",
   "id": "d90423858408707b",
   "outputs": [
    {
     "data": {
      "text/plain": [
       "        n1     n2      n3\n",
       "r1  Tiger1  Bear1  Mouse1\n",
       "r2  Tiger2  Bear2  Mouse2\n",
       "r3  Tiger3  Bear3  Mouse3"
      ],
      "text/html": [
       "<div>\n",
       "<style scoped>\n",
       "    .dataframe tbody tr th:only-of-type {\n",
       "        vertical-align: middle;\n",
       "    }\n",
       "\n",
       "    .dataframe tbody tr th {\n",
       "        vertical-align: top;\n",
       "    }\n",
       "\n",
       "    .dataframe thead th {\n",
       "        text-align: right;\n",
       "    }\n",
       "</style>\n",
       "<table border=\"1\" class=\"dataframe\">\n",
       "  <thead>\n",
       "    <tr style=\"text-align: right;\">\n",
       "      <th></th>\n",
       "      <th>n1</th>\n",
       "      <th>n2</th>\n",
       "      <th>n3</th>\n",
       "    </tr>\n",
       "  </thead>\n",
       "  <tbody>\n",
       "    <tr>\n",
       "      <th>r1</th>\n",
       "      <td>Tiger1</td>\n",
       "      <td>Bear1</td>\n",
       "      <td>Mouse1</td>\n",
       "    </tr>\n",
       "    <tr>\n",
       "      <th>r2</th>\n",
       "      <td>Tiger2</td>\n",
       "      <td>Bear2</td>\n",
       "      <td>Mouse2</td>\n",
       "    </tr>\n",
       "    <tr>\n",
       "      <th>r3</th>\n",
       "      <td>Tiger3</td>\n",
       "      <td>Bear3</td>\n",
       "      <td>Mouse3</td>\n",
       "    </tr>\n",
       "  </tbody>\n",
       "</table>\n",
       "</div>"
      ]
     },
     "execution_count": 43,
     "metadata": {},
     "output_type": "execute_result"
    }
   ],
   "execution_count": 43
  },
  {
   "metadata": {
    "ExecuteTime": {
     "end_time": "2024-04-07T09:45:04.921720Z",
     "start_time": "2024-04-07T09:45:04.919341Z"
    }
   },
   "cell_type": "code",
   "source": "df['n1']=1",
   "id": "5c1ed0aab55b904b",
   "outputs": [],
   "execution_count": 44
  },
  {
   "metadata": {
    "ExecuteTime": {
     "end_time": "2024-04-07T09:45:10.414423Z",
     "start_time": "2024-04-07T09:45:10.409852Z"
    }
   },
   "cell_type": "code",
   "source": "df",
   "id": "a9435a698c8e9658",
   "outputs": [
    {
     "data": {
      "text/plain": [
       "    n1     n2      n3\n",
       "r1   1  Bear1  Mouse1\n",
       "r2   1  Bear2  Mouse2\n",
       "r3   1  Bear3  Mouse3"
      ],
      "text/html": [
       "<div>\n",
       "<style scoped>\n",
       "    .dataframe tbody tr th:only-of-type {\n",
       "        vertical-align: middle;\n",
       "    }\n",
       "\n",
       "    .dataframe tbody tr th {\n",
       "        vertical-align: top;\n",
       "    }\n",
       "\n",
       "    .dataframe thead th {\n",
       "        text-align: right;\n",
       "    }\n",
       "</style>\n",
       "<table border=\"1\" class=\"dataframe\">\n",
       "  <thead>\n",
       "    <tr style=\"text-align: right;\">\n",
       "      <th></th>\n",
       "      <th>n1</th>\n",
       "      <th>n2</th>\n",
       "      <th>n3</th>\n",
       "    </tr>\n",
       "  </thead>\n",
       "  <tbody>\n",
       "    <tr>\n",
       "      <th>r1</th>\n",
       "      <td>1</td>\n",
       "      <td>Bear1</td>\n",
       "      <td>Mouse1</td>\n",
       "    </tr>\n",
       "    <tr>\n",
       "      <th>r2</th>\n",
       "      <td>1</td>\n",
       "      <td>Bear2</td>\n",
       "      <td>Mouse2</td>\n",
       "    </tr>\n",
       "    <tr>\n",
       "      <th>r3</th>\n",
       "      <td>1</td>\n",
       "      <td>Bear3</td>\n",
       "      <td>Mouse3</td>\n",
       "    </tr>\n",
       "  </tbody>\n",
       "</table>\n",
       "</div>"
      ]
     },
     "execution_count": 45,
     "metadata": {},
     "output_type": "execute_result"
    }
   ],
   "execution_count": 45
  },
  {
   "metadata": {
    "ExecuteTime": {
     "end_time": "2024-04-07T09:45:30.941119Z",
     "start_time": "2024-04-07T09:45:30.938400Z"
    }
   },
   "cell_type": "code",
   "source": "df['n1'] = df['n1'] * 2",
   "id": "4c0ea8a2ae3ada5f",
   "outputs": [],
   "execution_count": 46
  },
  {
   "metadata": {
    "ExecuteTime": {
     "end_time": "2024-04-07T09:45:33.283716Z",
     "start_time": "2024-04-07T09:45:33.279632Z"
    }
   },
   "cell_type": "code",
   "source": "df",
   "id": "d4626c4946a52839",
   "outputs": [
    {
     "data": {
      "text/plain": [
       "    n1     n2      n3\n",
       "r1   2  Bear1  Mouse1\n",
       "r2   2  Bear2  Mouse2\n",
       "r3   2  Bear3  Mouse3"
      ],
      "text/html": [
       "<div>\n",
       "<style scoped>\n",
       "    .dataframe tbody tr th:only-of-type {\n",
       "        vertical-align: middle;\n",
       "    }\n",
       "\n",
       "    .dataframe tbody tr th {\n",
       "        vertical-align: top;\n",
       "    }\n",
       "\n",
       "    .dataframe thead th {\n",
       "        text-align: right;\n",
       "    }\n",
       "</style>\n",
       "<table border=\"1\" class=\"dataframe\">\n",
       "  <thead>\n",
       "    <tr style=\"text-align: right;\">\n",
       "      <th></th>\n",
       "      <th>n1</th>\n",
       "      <th>n2</th>\n",
       "      <th>n3</th>\n",
       "    </tr>\n",
       "  </thead>\n",
       "  <tbody>\n",
       "    <tr>\n",
       "      <th>r1</th>\n",
       "      <td>2</td>\n",
       "      <td>Bear1</td>\n",
       "      <td>Mouse1</td>\n",
       "    </tr>\n",
       "    <tr>\n",
       "      <th>r2</th>\n",
       "      <td>2</td>\n",
       "      <td>Bear2</td>\n",
       "      <td>Mouse2</td>\n",
       "    </tr>\n",
       "    <tr>\n",
       "      <th>r3</th>\n",
       "      <td>2</td>\n",
       "      <td>Bear3</td>\n",
       "      <td>Mouse3</td>\n",
       "    </tr>\n",
       "  </tbody>\n",
       "</table>\n",
       "</div>"
      ]
     },
     "execution_count": 47,
     "metadata": {},
     "output_type": "execute_result"
    }
   ],
   "execution_count": 47
  },
  {
   "metadata": {
    "ExecuteTime": {
     "end_time": "2024-04-07T09:46:03.578166Z",
     "start_time": "2024-04-07T09:46:03.575984Z"
    }
   },
   "cell_type": "code",
   "source": "x2 = df['n2']",
   "id": "86dd56310241210",
   "outputs": [],
   "execution_count": 48
  },
  {
   "metadata": {
    "ExecuteTime": {
     "end_time": "2024-04-07T09:46:18.642484Z",
     "start_time": "2024-04-07T09:46:18.640363Z"
    }
   },
   "cell_type": "code",
   "source": "x2 += '_hi'",
   "id": "726be111c6e5f8aa",
   "outputs": [],
   "execution_count": 49
  },
  {
   "metadata": {
    "ExecuteTime": {
     "end_time": "2024-04-07T09:46:22.707311Z",
     "start_time": "2024-04-07T09:46:22.703829Z"
    }
   },
   "cell_type": "code",
   "source": "x2",
   "id": "18107d866f972e5f",
   "outputs": [
    {
     "data": {
      "text/plain": [
       "r1    Bear1_hi\n",
       "r2    Bear2_hi\n",
       "r3    Bear3_hi\n",
       "Name: n2, dtype: object"
      ]
     },
     "execution_count": 50,
     "metadata": {},
     "output_type": "execute_result"
    }
   ],
   "execution_count": 50
  },
  {
   "metadata": {
    "ExecuteTime": {
     "end_time": "2024-04-07T09:46:36.920093Z",
     "start_time": "2024-04-07T09:46:36.915758Z"
    }
   },
   "cell_type": "code",
   "source": "df",
   "id": "336c191e85047529",
   "outputs": [
    {
     "data": {
      "text/plain": [
       "    n1        n2      n3\n",
       "r1   2  Bear1_hi  Mouse1\n",
       "r2   2  Bear2_hi  Mouse2\n",
       "r3   2  Bear3_hi  Mouse3"
      ],
      "text/html": [
       "<div>\n",
       "<style scoped>\n",
       "    .dataframe tbody tr th:only-of-type {\n",
       "        vertical-align: middle;\n",
       "    }\n",
       "\n",
       "    .dataframe tbody tr th {\n",
       "        vertical-align: top;\n",
       "    }\n",
       "\n",
       "    .dataframe thead th {\n",
       "        text-align: right;\n",
       "    }\n",
       "</style>\n",
       "<table border=\"1\" class=\"dataframe\">\n",
       "  <thead>\n",
       "    <tr style=\"text-align: right;\">\n",
       "      <th></th>\n",
       "      <th>n1</th>\n",
       "      <th>n2</th>\n",
       "      <th>n3</th>\n",
       "    </tr>\n",
       "  </thead>\n",
       "  <tbody>\n",
       "    <tr>\n",
       "      <th>r1</th>\n",
       "      <td>2</td>\n",
       "      <td>Bear1_hi</td>\n",
       "      <td>Mouse1</td>\n",
       "    </tr>\n",
       "    <tr>\n",
       "      <th>r2</th>\n",
       "      <td>2</td>\n",
       "      <td>Bear2_hi</td>\n",
       "      <td>Mouse2</td>\n",
       "    </tr>\n",
       "    <tr>\n",
       "      <th>r3</th>\n",
       "      <td>2</td>\n",
       "      <td>Bear3_hi</td>\n",
       "      <td>Mouse3</td>\n",
       "    </tr>\n",
       "  </tbody>\n",
       "</table>\n",
       "</div>"
      ]
     },
     "execution_count": 51,
     "metadata": {},
     "output_type": "execute_result"
    }
   ],
   "execution_count": 51
  },
  {
   "metadata": {},
   "cell_type": "code",
   "outputs": [],
   "execution_count": null,
   "source": "",
   "id": "92b38c0787c52247"
  }
 ],
 "metadata": {
  "kernelspec": {
   "display_name": "Python 3",
   "language": "python",
   "name": "python3"
  },
  "language_info": {
   "codemirror_mode": {
    "name": "ipython",
    "version": 2
   },
   "file_extension": ".py",
   "mimetype": "text/x-python",
   "name": "python",
   "nbconvert_exporter": "python",
   "pygments_lexer": "ipython2",
   "version": "2.7.6"
  }
 },
 "nbformat": 4,
 "nbformat_minor": 5
}
